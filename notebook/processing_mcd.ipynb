{
 "cells": [
  {
   "cell_type": "code",
   "execution_count": 1,
   "id": "8fdb531d-77e7-4c82-bac0-55ca1a1f2f79",
   "metadata": {
    "ExecuteTime": {
     "end_time": "2021-10-05T15:53:02.082628Z",
     "start_time": "2021-10-05T15:53:00.188991Z"
    }
   },
   "outputs": [],
   "source": [
    "import os\n",
    "import re\n",
    "from os import listdir\n",
    "from os.path import isfile, join\n",
    "from pathlib import Path\n",
    "\n",
    "import h5py\n",
    "import matplotlib.pyplot as plt\n",
    "import numpy as np\n",
    "import pandas as pd\n",
    "import skimage\n",
    "from joblib import Parallel, delayed\n",
    "from skimage import exposure, io\n",
    "from tqdm.notebook import tqdm, trange\n",
    "\n",
    "from readimc import MCDFile, TXTFile\n"
   ]
  },
  {
   "cell_type": "code",
   "execution_count": 2,
   "id": "385f20d5-1e3f-4397-a0a4-3b31f8aab5d0",
   "metadata": {
    "ExecuteTime": {
     "end_time": "2021-10-05T15:53:02.148567Z",
     "start_time": "2021-10-05T15:53:02.143604Z"
    }
   },
   "outputs": [],
   "source": [
    "p_dir = (Path().cwd().parents[0]).absolute()\n",
    "data_dir = p_dir / \"data\""
   ]
  },
  {
   "cell_type": "markdown",
   "id": "5db3acf5-04bb-4497-be2c-8285bb17386e",
   "metadata": {},
   "source": [
    "# Create metadata"
   ]
  },
  {
   "cell_type": "code",
   "execution_count": 12,
   "id": "11064fab-6348-4b13-b867-9e17d32daa50",
   "metadata": {
    "ExecuteTime": {
     "end_time": "2021-10-05T16:03:47.635704Z",
     "start_time": "2021-10-05T16:03:47.623743Z"
    }
   },
   "outputs": [],
   "source": [
    "from collections import defaultdict\n",
    "\n",
    "def get_info(img_folder):\n",
    "    \"\"\"Function returns the info from folder containing multi-cycle staigning on cell\n",
    "\n",
    "    Args:\n",
    "        img_folder (str) : imgage folder path to get information\n",
    "        name_dict (dict) : three level dictionnary mapping cycle -> channel -> marker name\n",
    "\n",
    "    Returns:\n",
    "        pandas dataframe with information\n",
    "    \"\"\"\n",
    "   \n",
    "    info =  defaultdict(list)\n",
    "    # Loop through image folder\n",
    "    for (dirpath, dirnames, filenames) in os.walk(img_folder):\n",
    "        for name in sorted(filenames):\n",
    "            if 'mcd' not in name:\n",
    "                continue\n",
    "\n",
    "            info['Dataset'].append(dirpath.split(\"\\\\\")[-1])\n",
    "            info['Path'].append(os.path.join(dirpath, name))\n",
    "            path = os.path.join(dirpath, name)\n",
    "            \n",
    "    df = pd.DataFrame(info)\n",
    "    return df"
   ]
  },
  {
   "cell_type": "code",
   "execution_count": 13,
   "id": "87032006-74b2-4011-aa8d-7d759d23730c",
   "metadata": {
    "ExecuteTime": {
     "end_time": "2021-10-05T16:04:38.206950Z",
     "start_time": "2021-10-05T16:04:38.141945Z"
    }
   },
   "outputs": [],
   "source": [
    "donors = [\n",
    "    \"LN Donor A\",\n",
    "    \"LN Donor E\",\n",
    "    \"INT Donor B\",\n",
    "    \"INT Donor E\",\n",
    "    \"TS Donor A\",\n",
    "    \"TS Donor E\",\n",
    "    \"SP Donor A\"\n",
    "]\n",
    "\n",
    "df = get_info(data_dir / 'mcd')"
   ]
  },
  {
   "cell_type": "code",
   "execution_count": 14,
   "id": "fe68bd68-a9db-4ea6-b293-76a605f1f2ca",
   "metadata": {
    "ExecuteTime": {
     "end_time": "2021-10-05T16:04:38.401949Z",
     "start_time": "2021-10-05T16:04:38.389947Z"
    }
   },
   "outputs": [
    {
     "data": {
      "text/html": [
       "<div>\n",
       "<style scoped>\n",
       "    .dataframe tbody tr th:only-of-type {\n",
       "        vertical-align: middle;\n",
       "    }\n",
       "\n",
       "    .dataframe tbody tr th {\n",
       "        vertical-align: top;\n",
       "    }\n",
       "\n",
       "    .dataframe thead th {\n",
       "        text-align: right;\n",
       "    }\n",
       "</style>\n",
       "<table border=\"1\" class=\"dataframe\">\n",
       "  <thead>\n",
       "    <tr style=\"text-align: right;\">\n",
       "      <th></th>\n",
       "      <th>Dataset</th>\n",
       "      <th>Path</th>\n",
       "    </tr>\n",
       "  </thead>\n",
       "  <tbody>\n",
       "    <tr>\n",
       "      <th>0</th>\n",
       "      <td>INT Donor B</td>\n",
       "      <td>Y:\\coskun-lab\\Thomas\\Leap\\data\\mcd\\INT Donor B...</td>\n",
       "    </tr>\n",
       "    <tr>\n",
       "      <th>1</th>\n",
       "      <td>INT Donor E</td>\n",
       "      <td>Y:\\coskun-lab\\Thomas\\Leap\\data\\mcd\\INT Donor E...</td>\n",
       "    </tr>\n",
       "    <tr>\n",
       "      <th>2</th>\n",
       "      <td>LN Donor A</td>\n",
       "      <td>Y:\\coskun-lab\\Thomas\\Leap\\data\\mcd\\LN Donor A\\...</td>\n",
       "    </tr>\n",
       "    <tr>\n",
       "      <th>3</th>\n",
       "      <td>LN Donor E</td>\n",
       "      <td>Y:\\coskun-lab\\Thomas\\Leap\\data\\mcd\\LN Donor E\\...</td>\n",
       "    </tr>\n",
       "    <tr>\n",
       "      <th>4</th>\n",
       "      <td>SP Donor A</td>\n",
       "      <td>Y:\\coskun-lab\\Thomas\\Leap\\data\\mcd\\SP Donor A\\...</td>\n",
       "    </tr>\n",
       "    <tr>\n",
       "      <th>5</th>\n",
       "      <td>TS Donor A</td>\n",
       "      <td>Y:\\coskun-lab\\Thomas\\Leap\\data\\mcd\\TS Donor A\\...</td>\n",
       "    </tr>\n",
       "    <tr>\n",
       "      <th>6</th>\n",
       "      <td>TS Donor E</td>\n",
       "      <td>Y:\\coskun-lab\\Thomas\\Leap\\data\\mcd\\TS Donor E\\...</td>\n",
       "    </tr>\n",
       "  </tbody>\n",
       "</table>\n",
       "</div>"
      ],
      "text/plain": [
       "       Dataset                                               Path\n",
       "0  INT Donor B  Y:\\coskun-lab\\Thomas\\Leap\\data\\mcd\\INT Donor B...\n",
       "1  INT Donor E  Y:\\coskun-lab\\Thomas\\Leap\\data\\mcd\\INT Donor E...\n",
       "2   LN Donor A  Y:\\coskun-lab\\Thomas\\Leap\\data\\mcd\\LN Donor A\\...\n",
       "3   LN Donor E  Y:\\coskun-lab\\Thomas\\Leap\\data\\mcd\\LN Donor E\\...\n",
       "4   SP Donor A  Y:\\coskun-lab\\Thomas\\Leap\\data\\mcd\\SP Donor A\\...\n",
       "5   TS Donor A  Y:\\coskun-lab\\Thomas\\Leap\\data\\mcd\\TS Donor A\\...\n",
       "6   TS Donor E  Y:\\coskun-lab\\Thomas\\Leap\\data\\mcd\\TS Donor E\\..."
      ]
     },
     "execution_count": 14,
     "metadata": {},
     "output_type": "execute_result"
    }
   ],
   "source": [
    "df"
   ]
  },
  {
   "cell_type": "markdown",
   "id": "1419ddda-1e61-4ec5-bcf3-b0866fc40131",
   "metadata": {},
   "source": [
    "# Read images"
   ]
  },
  {
   "cell_type": "code",
   "execution_count": null,
   "id": "825ef0e2-88a6-40b2-9cf8-741f8b7b777f",
   "metadata": {},
   "outputs": [],
   "source": [
    "from sklearn.neighbors import NearestNeighbors\n",
    "from skimage.util import img_as_ubyte\n",
    "\n",
    "def get_NN(data, n):\n",
    "    fit = NearestNeighbors(n_neighbors=n).fit(data)\n",
    "    distances, indices = fit.kneighbors(data)\n",
    "\n",
    "    return distances, indices\n",
    "\n",
    "\n",
    "def filter_img_knn(img, n=25, th=3.5):\n",
    "    # Get avg distances per positive expressed pixels\n",
    "    x, y = np.where(img > 0)\n",
    "    values = img[x, y]\n",
    "\n",
    "    data = np.column_stack((x, y))\n",
    "    distances, indices = get_NN(data, n)\n",
    "    # avg_dist = np.average(distances, axis=1, weights=values[indices])\n",
    "    avg_dist = np.average(distances, axis=1)\n",
    "\n",
    "    filter_ind = avg_dist > th\n",
    "    unique, counts = np.unique(filter_ind, return_counts=True)\n",
    "    print(unique, counts)\n",
    "    x_fil = x[filter_ind]\n",
    "    y_fil = y[filter_ind]\n",
    "\n",
    "    img_fil = img.copy()\n",
    "    img_fil[x_fil, y_fil] = 0\n",
    "\n",
    "    return img_fil\n",
    "\n",
    "def save_hdf5(\n",
    "    path: str, name: str, data: np.ndarray, attr_dict=None, mode: str = \"a\"\n",
    ") -> None:\n",
    "    # Read h5 file\n",
    "    hf = h5py.File(path, mode)\n",
    "    # Create z_stack_dataset\n",
    "    if hf.get(name) is None:\n",
    "        data_shape = data.shape\n",
    "        data_type = data.dtype\n",
    "        chunk_shape = (1,) + data_shape[1:]\n",
    "        max_shape = (data_shape[0],) + data_shape[1:]\n",
    "        dset = hf.create_dataset(\n",
    "            name,\n",
    "            shape=data_shape,\n",
    "            maxshape=max_shape,\n",
    "            chunks=chunk_shape,\n",
    "            dtype=data_type,\n",
    "            compression=\"gzip\",\n",
    "        )\n",
    "        dset[:] = data\n",
    "        if attr_dict is not None:\n",
    "            for attr_key, attr_val in attr_dict.items():\n",
    "                dset.attrs[attr_key] = attr_val\n",
    "    else:\n",
    "        print(f\"Dataset {name} exists\")\n",
    "\n",
    "    hf.close()\n",
    "\n",
    "def contrast_streching(img):\n",
    "    img = img[:1000, :1000]\n",
    "    p2, p98 = np.percentile(img, (0.1, 99.9))\n",
    "    img = exposure.rescale_intensity(img, in_range=(p2, p98), out_range=(0, 255)).astype(np.uint8)\n",
    "    return img\n",
    "\n",
    "def read_img(path):\n",
    "    # return contrast_streching(skimage.io.imread(path))\n",
    "    return skimage.io.imread(path)\n",
    "\n",
    "def joblib_loop(task, pics):\n",
    "    return Parallel(n_jobs=20)(delayed(task)(i) for i in pics)"
   ]
  },
  {
   "cell_type": "code",
   "execution_count": 31,
   "id": "44c44361-a8a8-4de1-9546-f650aaf4fcd6",
   "metadata": {},
   "outputs": [],
   "source": [
    "for row in df.itertuples():\n",
    "    path = row.Path\n",
    "    "
   ]
  },
  {
   "cell_type": "code",
   "execution_count": 32,
   "id": "b8abeaeb-de1f-496d-be7b-8f9328b65bb0",
   "metadata": {},
   "outputs": [
    {
     "name": "stdout",
     "output_type": "stream",
     "text": [
      "ROI_1\n"
     ]
    }
   ],
   "source": [
    "with MCDFile(path) as f:\n",
    "    slide = f.slides[0]\n",
    "    \n",
    "    for acquisition in slide.acquisitions:\n",
    "        print(acquisition.description)\n",
    "        img = f.read_acquisition(acquisition)\n",
    "        labels = acquisition.channel_labels\n",
    "        break"
   ]
  },
  {
   "cell_type": "code",
   "execution_count": null,
   "id": "a5d800cd-308a-4da3-a996-5acb69c17af4",
   "metadata": {},
   "outputs": [],
   "source": []
  }
 ],
 "metadata": {
  "kernelspec": {
   "display_name": "Python [conda env:scspamet]",
   "language": "python",
   "name": "conda-env-scspamet-py"
  },
  "language_info": {
   "codemirror_mode": {
    "name": "ipython",
    "version": 3
   },
   "file_extension": ".py",
   "mimetype": "text/x-python",
   "name": "python",
   "nbconvert_exporter": "python",
   "pygments_lexer": "ipython3",
   "version": "3.10.6"
  }
 },
 "nbformat": 4,
 "nbformat_minor": 5
}
