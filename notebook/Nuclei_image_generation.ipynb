{
 "cells": [
  {
   "cell_type": "code",
   "execution_count": 114,
   "id": "2aad7998-2f7a-41df-a835-cb79318d72f8",
   "metadata": {
    "ExecuteTime": {
     "end_time": "2021-10-05T15:56:24.145198Z",
     "start_time": "2021-10-05T15:56:24.139197Z"
    }
   },
   "outputs": [],
   "source": [
    "import re\n",
    "import os \n",
    "\n",
    "from os import listdir\n",
    "from os.path import isfile, join\n",
    "import numpy as np\n",
    "import matplotlib.pyplot as plt\n",
    "import skimage\n",
    "from skimage import io\n",
    "\n",
    "from pathlib import Path\n",
    "from tqdm.notebook import trange, tqdm\n",
    "from joblib import Parallel, delayed\n",
    "import re\n",
    "from skimage import exposure\n",
    "import h5py\n",
    "import pandas as pd"
   ]
  },
  {
   "cell_type": "code",
   "execution_count": 115,
   "id": "4bbfcfe3-202f-4d95-a646-dcd9635f15c0",
   "metadata": {
    "ExecuteTime": {
     "end_time": "2021-10-05T15:56:24.303199Z",
     "start_time": "2021-10-05T15:56:24.299195Z"
    }
   },
   "outputs": [],
   "source": [
    "p_dir = (Path().cwd().parents[0]).absolute()\n",
    "data_dir = p_dir / 'data' "
   ]
  },
  {
   "cell_type": "code",
   "execution_count": 117,
   "id": "4a8ea2ee-a907-4b3a-af78-dad46c164950",
   "metadata": {
    "ExecuteTime": {
     "end_time": "2021-10-05T15:56:24.553199Z",
     "start_time": "2021-10-05T15:56:24.548201Z"
    }
   },
   "outputs": [],
   "source": [
    "donors = [\n",
    "    \"LN Donor A\",\n",
    "    \"LN Donor E\",\n",
    "    \"INT Donor B\",\n",
    "    \"INT Donor E\",\n",
    "    \"TS Donor A\",\n",
    "    \"TS Donor E\",\n",
    "    \"SP Donor A\"\n",
    "]\n",
    "\n",
    "donor = donors[3]"
   ]
  },
  {
   "cell_type": "markdown",
   "id": "e0baca1d-4fce-45c9-a574-3c313ba33b6a",
   "metadata": {},
   "source": [
    "# Import data"
   ]
  },
  {
   "cell_type": "code",
   "execution_count": 118,
   "id": "bcabf185-43dd-4ef1-b808-bf465be90c43",
   "metadata": {
    "ExecuteTime": {
     "end_time": "2021-10-05T15:56:26.227552Z",
     "start_time": "2021-10-05T15:56:26.220547Z"
    }
   },
   "outputs": [],
   "source": [
    "h5_data = p_dir / 'data' / 'h5' / f'{donor}.hdf5'\n",
    "\n",
    "def get_imgs(file_path, name):\n",
    "    f = h5py.File(file_path, 'r')\n",
    "    imgs = f[name]\n",
    "    labels = list(f[name].attrs['labels'])\n",
    "    return imgs, labels\n",
    "\n",
    "def contrast_stretching(img):\n",
    "    # Contrast stretching\n",
    "    p2, p98 = np.percentile(img, (1, 95))\n",
    "    img_rescale = exposure.rescale_intensity(\n",
    "        img, in_range=(p2, p98), out_range=(0, 255)\n",
    "    ).astype(np.uint8)\n",
    "    return img_rescale\n"
   ]
  },
  {
   "cell_type": "code",
   "execution_count": 119,
   "id": "69babf30-2ec7-4592-bca1-e04e230e2c57",
   "metadata": {
    "ExecuteTime": {
     "end_time": "2021-10-05T15:56:44.406591Z",
     "start_time": "2021-10-05T15:56:44.391594Z"
    }
   },
   "outputs": [],
   "source": [
    "df = pd.read_csv(data_dir / 'metadata' / f\"info_{donor}.csv\")\n",
    "ROIs = df.ROI.unique()"
   ]
  },
  {
   "cell_type": "code",
   "execution_count": 120,
   "id": "63e3e96c-7860-44a2-adfb-366320db734a",
   "metadata": {},
   "outputs": [],
   "source": [
    "for roi in ROIs:\n",
    "    imgs, markers = get_imgs(h5_data, str(roi))\n",
    "    break"
   ]
  },
  {
   "cell_type": "code",
   "execution_count": 121,
   "id": "9bccbe37-bc45-4a4f-b5c6-39ad9ad8002d",
   "metadata": {},
   "outputs": [],
   "source": [
    "import napari \n",
    "imgs, markers = get_imgs(h5_data, str(1))\n",
    "viewer = napari.view_image(np.stack(imgs), channel_axis=0, name=markers, visible=False)"
   ]
  },
  {
   "cell_type": "code",
   "execution_count": 126,
   "id": "b1366af3-23d8-483f-bbec-c8eefee71ea7",
   "metadata": {
    "ExecuteTime": {
     "end_time": "2021-10-05T15:58:15.547897Z",
     "start_time": "2021-10-05T15:58:12.682873Z"
    }
   },
   "outputs": [],
   "source": [
    "imgs_dapi = []\n",
    "\n",
    "# subset = [\"DNA1\", \"DNA2\", 'EZH2', 'Ki67', 'C-Myc']\n",
    "subset = [\"DNA1\", \"DNA2\", 'Ki67', 'H3K27me3', 'C-Myc']\n",
    "# subset = [\"DNA1\", \"DNA2\", 'Ki67', 'H3K27me3']\n",
    "# subset = [\"DNA1\", \"DNA2\"]\n",
    "\n",
    "for roi in ROIs:\n",
    "    imgs, markers = get_imgs(h5_data, str(roi))\n",
    "    img_dapi = np.max(\n",
    "        contrast_stretching(imgs[sorted([markers.index(marker) for marker in subset])]), axis=0\n",
    "    )\n",
    "    img_dapi = contrast_stretching(img_dapi)\n",
    "    imgs_dapi.append(img_dapi)"
   ]
  },
  {
   "cell_type": "code",
   "execution_count": 127,
   "id": "b1b988de-8335-4ccd-bc86-e88807551c2f",
   "metadata": {},
   "outputs": [
    {
     "data": {
      "text/plain": [
       "Viewer(axes=Axes(visible=False, labels=True, colored=True, dashed=False, arrows=True), camera=Camera(center=(0.0, 499.5, 499.5), zoom=0.5073, angles=(0.0, 0.0, 90.0), perspective=0.0, interactive=True), cursor=Cursor(position=(1.0, 1.0, 0.0), scaled=True, size=1, style=<CursorStyle.STANDARD: 'standard'>), dims=Dims(ndim=3, ndisplay=2, last_used=0, range=((0.0, 16.0, 1.0), (0.0, 1000.0, 1.0), (0.0, 1000.0, 1.0)), current_step=(8, 500, 500), order=(0, 1, 2), axis_labels=('0', '1', '2')), grid=GridCanvas(stride=1, shape=(-1, -1), enabled=False), layers=[<Image layer 'Image' at 0x214ff36e700>], scale_bar=ScaleBar(visible=False, colored=False, ticks=True, position=<Position.BOTTOM_RIGHT: 'bottom_right'>, font_size=10.0, unit=None), text_overlay=TextOverlay(visible=False, color=array([0.5, 0.5, 0.5, 1. ]), font_size=10.0, position=<TextOverlayPosition.TOP_LEFT: 'top_left'>, text=''), overlays=Overlays(interaction_box=InteractionBox(points=None, show=False, show_handle=False, show_vertices=False, selection_box_drag=None, selection_box_final=None, transform_start=<napari.utils.transforms.transforms.Affine object at 0x00000214F7A82B80>, transform_drag=<napari.utils.transforms.transforms.Affine object at 0x00000214F7A82BE0>, transform_final=<napari.utils.transforms.transforms.Affine object at 0x00000214F7A82C70>, transform=<napari.utils.transforms.transforms.Affine object at 0x00000214F7A82CD0>, allow_new_selection=True, selected_vertex=None)), help='', status='Ready', tooltip=Tooltip(visible=False, text=''), theme='dark', title='napari', mouse_move_callbacks=[<function InteractionBoxMouseBindings.initialize_mouse_events.<locals>.mouse_move at 0x00000214FF3BC280>], mouse_drag_callbacks=[<function InteractionBoxMouseBindings.initialize_mouse_events.<locals>.mouse_drag at 0x00000214FF3A8700>], mouse_double_click_callbacks=[], mouse_wheel_callbacks=[<function dims_scroll at 0x00000214969028B0>], _persisted_mouse_event={}, _mouse_drag_gen={}, _mouse_wheel_gen={}, keymap={'Shift': <function InteractionBoxMouseBindings.initialize_key_events.<locals>.hold_to_lock_aspect_ratio at 0x00000214FF3A8310>, 'Control-Shift-R': <function InteractionBoxMouseBindings._reset_active_layer_affine at 0x00000214FF3A8E50>, 'Control-Shift-A': <function InteractionBoxMouseBindings._transform_active_layer at 0x00000214FF3A8C10>})"
      ]
     },
     "execution_count": 127,
     "metadata": {},
     "output_type": "execute_result"
    }
   ],
   "source": [
    "import napari\n",
    "\n",
    "napari.view_image(np.stack(imgs_dapi))"
   ]
  },
  {
   "cell_type": "code",
   "execution_count": 128,
   "id": "f11d81ce-2d8c-4fe5-aeef-ab5401772f3d",
   "metadata": {},
   "outputs": [],
   "source": [
    "nuclei_image_path = p_dir / 'data' / 'ROI_nuclei' /  f'{donor}'\n",
    "nuclei_image_path.mkdir(parents=True, exist_ok=True)\n"
   ]
  },
  {
   "cell_type": "code",
   "execution_count": 129,
   "id": "29df7186-1127-4099-ae27-85d2f2726b2b",
   "metadata": {},
   "outputs": [],
   "source": [
    "for i, img in enumerate(imgs_dapi):\n",
    "    io.imsave(nuclei_image_path / f'{ROIs[i]}.png', img)"
   ]
  },
  {
   "cell_type": "code",
   "execution_count": null,
   "id": "a189c887-46a8-44cc-b6d7-6f2a6bcbf861",
   "metadata": {},
   "outputs": [],
   "source": []
  }
 ],
 "metadata": {
  "kernelspec": {
   "display_name": "Python [conda env:new_codex]",
   "language": "python",
   "name": "conda-env-new_codex-py"
  },
  "language_info": {
   "codemirror_mode": {
    "name": "ipython",
    "version": 3
   },
   "file_extension": ".py",
   "mimetype": "text/x-python",
   "name": "python",
   "nbconvert_exporter": "python",
   "pygments_lexer": "ipython3",
   "version": "3.9.7"
  }
 },
 "nbformat": 4,
 "nbformat_minor": 5
}
