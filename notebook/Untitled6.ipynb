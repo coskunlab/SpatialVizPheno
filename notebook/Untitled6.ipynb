{
 "cells": [
  {
   "cell_type": "code",
   "execution_count": 6,
   "id": "6dc573ce-dbb6-4849-b7a0-7d2c860fc994",
   "metadata": {},
   "outputs": [],
   "source": [
    "import os\n",
    "import re\n",
    "import sys\n",
    "from pathlib import Path\n",
    "\n",
    "import h5py\n",
    "import matplotlib.pyplot as plt\n",
    "import numpy as np\n",
    "import pandas as pd\n",
    "import scanpy as sc\n",
    "import skimage\n",
    "from skimage import io\n",
    "from sklearn import preprocessing\n",
    "from tqdm.notebook import tqdm, trange\n",
    "import anndata as ad\n",
    "import cv2\n",
    "import pickle"
   ]
  },
  {
   "cell_type": "code",
   "execution_count": 7,
   "id": "69fe860e-a479-4859-bb0b-072c79d832ba",
   "metadata": {},
   "outputs": [],
   "source": [
    "p_dir = (Path().cwd().parents[0].parents[0]).absolute()\n",
    "data_dir = p_dir / \"09_datasets\""
   ]
  },
  {
   "cell_type": "code",
   "execution_count": 8,
   "id": "bb82e622-127b-490a-a7e3-1239f8bc918f",
   "metadata": {},
   "outputs": [],
   "source": [
    "mask_folder = data_dir / 'exported' / 'foll_masks'"
   ]
  },
  {
   "cell_type": "markdown",
   "id": "fcd3cdce-e3d2-4702-a734-dc151d17a340",
   "metadata": {},
   "source": [
    "# Functions"
   ]
  },
  {
   "cell_type": "code",
   "execution_count": 11,
   "id": "cac92a67-41fe-46fb-9f70-7489314a90cc",
   "metadata": {},
   "outputs": [],
   "source": [
    "# def mask2boundary(mask):\n",
    "#     contours, hierarchy = cv2.findContours(mask, cv2.RETR_EXTERNAL, cv2.CHAIN_APPROX_SIMPLE)\n",
    "#     contour = max(contours, key = cv2.contourArea)\n",
    "#     contour = np.squeeze(contour)\n",
    "#     contour[:, [0,1]] = contour[:, [1,0]]\n",
    "#     return contour\n",
    "\n",
    "def mask2boundary(mask):\n",
    "    contours, hierarchy = cv2.findContours(mask, cv2.RETR_TREE, cv2.CHAIN_APPROX_SIMPLE)\n",
    "    contour = np.empty(2)\n",
    "    for i in range(len(contours[0])):\n",
    "        contour = np.vstack((contours[0][i][0], contour))\n",
    "    contour = contour[0:-1]\n",
    "    contour.T[0] = contour.T[0] + 1\n",
    "    contour.T[1] = contour.T[1] + 1\n",
    "    boundary = np.empty((2, len(contour.T[1])))\n",
    "    boundary[0] = contour.T[1]\n",
    "    boundary[1] = contour.T[0]\n",
    "    boundary = boundary.T.astype(int)\n",
    "    return boundary"
   ]
  },
  {
   "cell_type": "code",
   "execution_count": 12,
   "id": "1a1222a7-8318-4b98-b2e6-02aa68332c17",
   "metadata": {},
   "outputs": [],
   "source": [
    "import PIL\n",
    "from collections import defaultdict\n",
    "\n",
    "info = defaultdict(list)\n",
    "\n",
    "# Loop through image folder\n",
    "for (dirpath, dirnames, filenames) in os.walk(mask_folder):\n",
    "    for name in sorted(filenames):\n",
    "        if \"png\" not in name or 'foll' not in name:\n",
    "            continue\n",
    "            \n",
    "        n_split = name.split('_')\n",
    "        if len(n_split)>2:\n",
    "            dataset = n_split[0]\n",
    "            subset = '_' + n_split[1]\n",
    "        else:\n",
    "            dataset = n_split[0]\n",
    "            subset = ''\n",
    "        \n",
    "        path_foll = os.path.join(dirpath, name)\n",
    "        path_GC = os.path.join(dirpath, dataset + subset + '_GC.png')\n",
    "        \n",
    "        info['Path_foll'].append(path_foll)\n",
    "        info['Path_GC'].append(path_GC)\n",
    "        info['Dataset'].append(dataset)\n",
    "        info['Subset'].append(subset)"
   ]
  },
  {
   "cell_type": "code",
   "execution_count": 13,
   "id": "3bffca55-36ca-471e-a412-da3e6f87d1f4",
   "metadata": {},
   "outputs": [],
   "source": [
    "df_info = pd.DataFrame(info)\n",
    "df_info = df_info[df_info.Dataset == '00']"
   ]
  },
  {
   "cell_type": "code",
   "execution_count": null,
   "id": "a4506881-9f3e-4c7e-b998-38d14e9b2e7c",
   "metadata": {},
   "outputs": [],
   "source": []
  }
 ],
 "metadata": {
  "kernelspec": {
   "display_name": "Python [conda env:traj]",
   "language": "python",
   "name": "conda-env-traj-py"
  },
  "language_info": {
   "codemirror_mode": {
    "name": "ipython",
    "version": 3
   },
   "file_extension": ".py",
   "mimetype": "text/x-python",
   "name": "python",
   "nbconvert_exporter": "python",
   "pygments_lexer": "ipython3",
   "version": "3.10.8"
  }
 },
 "nbformat": 4,
 "nbformat_minor": 5
}
