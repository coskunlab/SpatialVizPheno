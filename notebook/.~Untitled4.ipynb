{
 "cells": [
  {
   "cell_type": "code",
   "execution_count": 1,
   "id": "88a7edcd-9935-4448-947a-1cacea236d01",
   "metadata": {},
   "outputs": [],
   "source": [
    "import os\n",
    "import re\n",
    "import sys\n",
    "from pathlib import Path\n",
    "\n",
    "import h5py\n",
    "import matplotlib.pyplot as plt\n",
    "import numpy as np\n",
    "import pandas as pd\n",
    "import scanpy as sc\n",
    "import skimage\n",
    "import squidpy as sq\n",
    "from skimage import io\n",
    "from sklearn import preprocessing\n",
    "from tqdm.notebook import tqdm, trange\n",
    "import anndata as ad\n",
    "import cv2"
   ]
  },
  {
   "cell_type": "code",
   "execution_count": 2,
   "id": "2301ff28-d932-4b44-b395-aecbe10819f9",
   "metadata": {},
   "outputs": [],
   "source": [
    "p_dir = (Path().cwd().parents[0].parents[0]).absolute()\n",
    "data_dir = p_dir / \"09_datasets\""
   ]
  },
  {
   "cell_type": "code",
   "execution_count": 3,
   "id": "d9114fec-25d9-43cc-a6fe-f33935064d41",
   "metadata": {},
   "outputs": [],
   "source": [
    "dataset_1 = data_dir / '01_codex_data'\n",
    "dataset_2 = data_dir / '02_tissue_architecture'\n",
    "dataset_3 = data_dir / '03_Sci_Data_Cycif' \n",
    "dataset_5 = data_dir / '05_MCMICRO' / 'TNP_pilot_cycif' \n",
    "\n",
    "mask_folder = data_dir / 'exported' / 'foll_masks'"
   ]
  },
  {
   "cell_type": "code",
   "execution_count": 7,
   "id": "1ecf68de-2f8e-4b9e-a3f8-5fbd24d77dc7",
   "metadata": {},
   "outputs": [
    {
     "data": {
      "application/vnd.jupyter.widget-view+json": {
       "model_id": "57b22532b8a240b090dea6b195a3ba98",
       "version_major": 2,
       "version_minor": 0
      },
      "text/plain": [
       "  0%|          | 0/55 [00:00<?, ?it/s]"
      ]
     },
     "metadata": {},
     "output_type": "display_data"
    }
   ],
   "source": [
    "masks_1_folder = r'Y:\\coskun-lab\\Thomas\\09_datasets\\exported\\masks\\03_cycif'\n",
    "masks = []\n",
    "coords = []\n",
    "sizes = []\n",
    "\n",
    "for (dirpath, dirnames, filenames) in os.walk(masks_1_folder):\n",
    "    for name in tqdm(sorted(filenames)):\n",
    "        if 'tif' not in name:\n",
    "            continue\n",
    "        \n",
    "        # read mask\n",
    "        path = os.path.join(dirpath, name)\n",
    "        mask = io.imread(path)\n",
    "        \n",
    "        # If non cell in mask pass\n",
    "        if mask.max() == 0:\n",
    "            continue\n",
    "        \n",
    "        # Get mask coords and size\n",
    "        info = name.split(' ')[1]\n",
    "        info = info.split('_')\n",
    "        row = int(info[1][2:])\n",
    "        col = int(info[0][2:])\n",
    "        size = (int(info[3][2:]), int(info[2][2:]))\n",
    "                \n",
    "        masks.append(mask)\n",
    "        coords.append((row, col))\n",
    "        sizes.append(size)\n",
    "\n",
    "coords = np.array(coords)\n",
    "sizes = np.array(sizes)"
   ]
  },
  {
   "cell_type": "code",
   "execution_count": 8,
   "id": "8ffd6863-8434-4eb7-a7de-741cc587fb0f",
   "metadata": {},
   "outputs": [
    {
     "data": {
      "application/vnd.jupyter.widget-view+json": {
       "model_id": "5b8b56c32c5a4345b649c6363d380c45",
       "version_major": 2,
       "version_minor": 0
      },
      "text/plain": [
       "0it [00:00, ?it/s]"
      ]
     },
     "metadata": {},
     "output_type": "display_data"
    }
   ],
   "source": [
    "max_coords = np.max(coords+sizes, axis=0)\n",
    "\n",
    "mask_sti = np.zeros((max_coords[0], max_coords[1]), np.uint32)\n",
    "max_counter = 0\n",
    "for i, coord in tqdm(enumerate(coords)):\n",
    "    mask = np.where(masks[i]>0, masks[i] + max_counter, 0)\n",
    "    mask_sti[coord[0]:coord[0]+sizes[i][0], coord[1]:coord[1]+sizes[i][1]] = masks[i]\n",
    "    max_counter += np.max(masks[i])"
   ]
  },
  {
   "cell_type": "code",
   "execution_count": 10,
   "id": "b72d27d2-84c2-4931-a279-7ea904dafa91",
   "metadata": {},
   "outputs": [
    {
     "data": {
      "text/plain": [
       "Viewer(axes=Axes(visible=False, labels=True, colored=True, dashed=False, arrows=True), camera=Camera(center=(0.0, 4799.5, 7199.5), zoom=0.092328125, angles=(0.0, 0.0, 90.0), perspective=0, interactive=True), cursor=Cursor(position=(1, 1), scaled=True, size=1, style=<CursorStyle.STANDARD: 'standard'>), dims=Dims(ndim=2, ndisplay=2, last_used=0, range=((0.0, 9600.0, 1.0), (0.0, 14400.0, 1.0)), current_step=(4800, 7200), order=(0, 1), axis_labels=('0', '1')), grid=GridCanvas(stride=1, shape=(-1, -1), enabled=False), layers=[<Image layer 'mask_sti' at 0x1d238485a80>], scale_bar=ScaleBar(visible=False, colored=False, ticks=True, position=<Position.BOTTOM_RIGHT: 'bottom_right'>, font_size=10, unit=None), text_overlay=TextOverlay(visible=False, color=(0.5, 0.5, 0.5, 1.0), font_size=10, position=<TextOverlayPosition.TOP_LEFT: 'top_left'>, text=''), overlays=Overlays(interaction_box=InteractionBox(points=None, show=False, show_handle=False, show_vertices=False, selection_box_drag=None, selection_box_final=None, transform_start=<napari.utils.transforms.transforms.Affine object at 0x000001D237BB83D0>, transform_drag=<napari.utils.transforms.transforms.Affine object at 0x000001D237BB8430>, transform_final=<napari.utils.transforms.transforms.Affine object at 0x000001D237BB8490>, transform=<napari.utils.transforms.transforms.Affine object at 0x000001D237BB84F0>, allow_new_selection=True, selected_vertex=None)), help='', status='Ready', tooltip=Tooltip(visible=False, text=''), theme='dark', title='napari', mouse_move_callbacks=[<function InteractionBoxMouseBindings.initialize_mouse_events.<locals>.mouse_move at 0x000001D238E328C0>], mouse_drag_callbacks=[<function InteractionBoxMouseBindings.initialize_mouse_events.<locals>.mouse_drag at 0x000001D238E31C60>], mouse_double_click_callbacks=[], mouse_wheel_callbacks=[<function dims_scroll at 0x000001D225242C20>], _persisted_mouse_event={}, _mouse_drag_gen={}, _mouse_wheel_gen={}, keymap={'Shift': <function InteractionBoxMouseBindings.initialize_key_events.<locals>.hold_to_lock_aspect_ratio at 0x000001D238E32440>, 'Control-Shift-R': <function InteractionBoxMouseBindings._reset_active_layer_affine at 0x000001D238E327A0>, 'Control-Shift-A': <function InteractionBoxMouseBindings._transform_active_layer at 0x000001D238E32680>})"
      ]
     },
     "execution_count": 10,
     "metadata": {},
     "output_type": "execute_result"
    }
   ],
   "source": [
    "import napari\n",
    "napari.view_image(mask_sti)"
   ]
  },
  {
   "cell_type": "code",
   "execution_count": null,
   "id": "c354b676-cb0d-4837-b4d6-61935186b75b",
   "metadata": {},
   "outputs": [],
   "source": []
  }
 ],
 "metadata": {
  "kernelspec": {
   "display_name": "Python [conda env:.conda-scanpy]",
   "language": "python",
   "name": "conda-env-.conda-scanpy-py"
  },
  "language_info": {
   "codemirror_mode": {
    "name": "ipython",
    "version": 3
   },
   "file_extension": ".py",
   "mimetype": "text/x-python",
   "name": "python",
   "nbconvert_exporter": "python",
   "pygments_lexer": "ipython3",
   "version": "3.10.5"
  }
 },
 "nbformat": 4,
 "nbformat_minor": 5
}
