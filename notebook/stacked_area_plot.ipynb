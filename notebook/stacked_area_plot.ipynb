{
 "cells": [
  {
   "cell_type": "markdown",
   "id": "3f15a039-674e-4b86-ad9b-a909688b6608",
   "metadata": {},
   "source": [
    "This Notebook is used to generated stacked area plot showing the varitaion of cell type as a distance of COL1 region"
   ]
  },
  {
   "cell_type": "code",
   "execution_count": null,
   "id": "c78e55fe-07c0-4a5c-8926-dfa12513206b",
   "metadata": {},
   "outputs": [],
   "source": []
  }
 ],
 "metadata": {
  "kernelspec": {
   "display_name": "Python [conda env:traj]",
   "language": "python",
   "name": "conda-env-traj-py"
  },
  "language_info": {
   "codemirror_mode": {
    "name": "ipython",
    "version": 3
   },
   "file_extension": ".py",
   "mimetype": "text/x-python",
   "name": "python",
   "nbconvert_exporter": "python",
   "pygments_lexer": "ipython3",
   "version": "3.10.8"
  }
 },
 "nbformat": 4,
 "nbformat_minor": 5
}
