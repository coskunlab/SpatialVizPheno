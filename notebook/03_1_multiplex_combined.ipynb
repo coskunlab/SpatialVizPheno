{
 "cells": [
  {
   "cell_type": "code",
   "execution_count": 1,
   "id": "17d63cf1-efef-4c4a-afac-d17990596e3a",
   "metadata": {
    "ExecuteTime": {
     "end_time": "2021-09-26T14:40:45.231810Z",
     "start_time": "2021-09-26T14:40:42.829916Z"
    }
   },
   "outputs": [],
   "source": [
    "import os\n",
    "import re\n",
    "import sys\n",
    "from os import listdir\n",
    "from os.path import isfile, join\n",
    "from pathlib import Path\n",
    "\n",
    "import h5py\n",
    "import matplotlib.pyplot as plt\n",
    "import numpy as np\n",
    "import pandas as pd\n",
    "import skimage\n",
    "from joblib import Parallel, delayed\n",
    "from PIL import Image\n",
    "from skimage import exposure, io\n",
    "from tqdm.notebook import tqdm, trange"
   ]
  },
  {
   "cell_type": "code",
   "execution_count": 2,
   "id": "3df3287c-0e06-40b3-bd8a-c54d6a326698",
   "metadata": {
    "ExecuteTime": {
     "end_time": "2021-09-26T14:40:45.247761Z",
     "start_time": "2021-09-26T14:40:45.242029Z"
    }
   },
   "outputs": [],
   "source": [
    "p_dir = (Path().cwd().parents[0]).absolute()\n",
    "data_dir = p_dir / \"data\""
   ]
  },
  {
   "cell_type": "code",
   "execution_count": 3,
   "id": "5a654025-20db-4104-abc8-12377b7306af",
   "metadata": {
    "ExecuteTime": {
     "end_time": "2021-09-26T14:40:46.239376Z",
     "start_time": "2021-09-26T14:40:45.258375Z"
    }
   },
   "outputs": [],
   "source": [
    "%load_ext autoreload\n",
    "%autoreload 2\n",
    "\n",
    "module_path = str(p_dir / \"src\")\n",
    "\n",
    "if module_path not in sys.path:\n",
    "    sys.path.append(module_path)\n",
    "\n",
    "import utils as my_utils"
   ]
  },
  {
   "cell_type": "code",
   "execution_count": 4,
   "id": "4dd8e543-ef2d-4e1e-8bc5-0e70958ae730",
   "metadata": {},
   "outputs": [],
   "source": [
    "donors = [\n",
    "    \"LN Donor A\",\n",
    "    \"LN Donor E\",\n",
    "    \"INT Donor B\",\n",
    "    \"INT Donor E\",\n",
    "    \"TS Donor A\",\n",
    "    \"TS Donor E\",\n",
    "    \"SP Donor A\"\n",
    "]"
   ]
  },
  {
   "cell_type": "markdown",
   "id": "2f1d5983-5a4c-4a6d-8784-07b07f62a0fe",
   "metadata": {},
   "source": [
    "# Import data"
   ]
  },
  {
   "cell_type": "code",
   "execution_count": 5,
   "id": "b39a8903-c23a-4f46-8f8f-62fa43551d65",
   "metadata": {},
   "outputs": [],
   "source": [
    "import matplotlib.patches as mpatches\n",
    "from skimage.segmentation import mark_boundaries\n",
    "\n",
    "def get_imgs(file_path, name):\n",
    "    f = h5py.File(file_path, \"r\")\n",
    "    imgs = f[name]\n",
    "    labels = list(f[name].attrs[\"labels\"])\n",
    "    return imgs, labels\n",
    "\n",
    "def get_img_size(roi_dict, size=1000):\n",
    "    row_max = 0\n",
    "    col_max = 0\n",
    "    for k, v in roi_dict.items():\n",
    "        row_max = max(row_max, v[0])\n",
    "        col_max = max(col_max, v[1])\n",
    "    return row_max + size, col_max + size\n",
    "\n",
    "def get_img_subset(imgs, markers, labels):\n",
    "    imgs_subset = []\n",
    "    for marker in markers:\n",
    "        idx = labels.index(marker)\n",
    "        imgs_subset.append(imgs[idx])\n",
    "    return np.stack(imgs_subset, axis=2)\n",
    "\n",
    "def get_img_subset1(imgs, markers, labels):\n",
    "    imgs_subset = []\n",
    "    for marker in markers:\n",
    "        idx = labels.index(marker)\n",
    "        imgs_subset.append(imgs[...,idx])\n",
    "    return np.stack(imgs_subset, axis=2)\n",
    "\n",
    "def contrast_streching(img):\n",
    "    p2, p98 = np.percentile(img, (0.5, 99.5))\n",
    "    img = exposure.rescale_intensity(img, in_range=(p2, p98), out_range=(0, 255)).astype(np.uint8)\n",
    "    return img"
   ]
  },
  {
   "cell_type": "code",
   "execution_count": 6,
   "id": "070029d6-d50a-4912-9ed6-95a4703da1e6",
   "metadata": {
    "jupyter": {
     "source_hidden": true
    },
    "tags": []
   },
   "outputs": [],
   "source": [
    "# Format row, col\n",
    "arrangement = {\n",
    "    \"LN Donor A\": {\n",
    "        1: [0, 1000],\n",
    "        2: [0, 2000],\n",
    "        3: [1000, 0],\n",
    "        4: [1000, 1000],\n",
    "        5: [1000, 2000],\n",
    "        6: [1000, 3000],\n",
    "        7: [2000, 0],\n",
    "        8: [2000, 1000],\n",
    "        9: [2000, 2000],\n",
    "        10: [2000, 3000],\n",
    "        11: [3000, 0],\n",
    "        12: [3000, 1000],\n",
    "        13: [3000, 2000],\n",
    "        14: [3000, 3000],\n",
    "        15: [4000, 1000],\n",
    "        16: [4000, 2000],\n",
    "    },\n",
    "    \"LN Donor E\": {\n",
    "        1: [1000, 0],\n",
    "        2: [1000, 1000],\n",
    "        3: [1000, 2000],\n",
    "        4: [1000, 3000],\n",
    "        5: [1000, 4000],\n",
    "        6: [1000, 5000],\n",
    "        7: [1000, 6000],\n",
    "        8: [1000, 7000],\n",
    "        9: [1000, 8000],\n",
    "        10: [0, 0],\n",
    "        11: [0, 1000],\n",
    "        12: [0, 2000],\n",
    "        13: [0, 3000],\n",
    "        14: [0, 4000],\n",
    "    },\n",
    "    \"INT Donor B\": {\n",
    "        1: [0, 0],\n",
    "        2: [0, 1000],\n",
    "        3: [1000, 0],\n",
    "        4: [1000, 1000],\n",
    "        5: [2000, 0],\n",
    "        6: [2000, 1000],\n",
    "        7: [2000, 2000],\n",
    "        8: [2000, 3000],\n",
    "        9: [3000, 0],\n",
    "        10: [3000, 1000],\n",
    "        11: [3000, 2000],\n",
    "        12: [3000, 3000],\n",
    "        13: [4000, 0],\n",
    "        14: [4000, 1000],\n",
    "        15: [4000, 2000],\n",
    "        16: [4000, 3000],\n",
    "        17: [5000, 0],\n",
    "        18: [5000, 1000],\n",
    "        19: [5000, 2000],\n",
    "        20: [5000, 3000],\n",
    "    },\n",
    "    \"INT Donor E\": {\n",
    "        1: [0, 0],\n",
    "        2: [0, 1000],\n",
    "        3: [0, 2000],\n",
    "        4: [0, 3000],\n",
    "        # 5: [0, 4000],\n",
    "        6: [1000, 0],\n",
    "        7: [1000, 1000],\n",
    "        8: [1000, 2000],\n",
    "        9: [1000, 3000],\n",
    "        10: [1000, 4000],\n",
    "        11: [2000, 3000],\n",
    "        12: [2000, 4000],\n",
    "        13: [3000, 3000],\n",
    "        14: [3000, 4000],\n",
    "        15: [4000, 3000],\n",
    "        16: [4000, 4000],\n",
    "    },\n",
    "    \"TS Donor A\": {\n",
    "        1: [0, 0],\n",
    "        2: [0, 1000],\n",
    "        3: [0, 2000],\n",
    "        4: [0, 3000],\n",
    "        5: [0, 4000],\n",
    "        6: [0, 5000],\n",
    "        7: [0, 6000],\n",
    "        8: [1000, 0],\n",
    "        9: [1000, 1000],\n",
    "        10: [1000, 2000],\n",
    "        11: [1000, 3000],\n",
    "        12: [1000, 4000],\n",
    "        13: [1000, 5000],\n",
    "        14: [1000, 6000],\n",
    "    },\n",
    "    \"TS Donor E\": {\n",
    "        1: [0, 0],\n",
    "        2: [0, 1000],\n",
    "        3: [0, 2000],\n",
    "        4: [1000, 0],\n",
    "        5: [1000, 1000],\n",
    "        6: [1000, 2000],\n",
    "        7: [2000, 0],\n",
    "        8: [2000, 1000],\n",
    "        9: [2000, 2000],\n",
    "        10: [3000, 0],\n",
    "        11: [3000, 1000],\n",
    "        12: [3000, 2000],\n",
    "        13: [4000, 0],\n",
    "        14: [4000, 1000],\n",
    "        15: [4000, 2000],\n",
    "        16: [5000, 0],\n",
    "        17: [5000, 1000],\n",
    "        18: [5000, 2000],\n",
    "    },\n",
    "    \"SP Donor A\": {\n",
    "        1: [0, 0],\n",
    "        2: [0, 1000],\n",
    "        3: [0, 2000],\n",
    "        4: [0, 3000],\n",
    "        5: [0, 4000],\n",
    "        6: [1000, 0],\n",
    "        7: [1000, 1000],\n",
    "        8: [1000, 2000],\n",
    "        9: [1000, 3000],\n",
    "        10: [1000, 4000],\n",
    "        11: [2000, 0],\n",
    "        12: [2000, 1000],\n",
    "        13: [2000, 2000],\n",
    "        14: [2000, 3000],\n",
    "        15: [2000, 4000],\n",
    "        16: [3000, 0],\n",
    "        17: [3000, 1000],\n",
    "        18: [3000, 2000],\n",
    "        19: [3000, 3000],\n",
    "        20: [3000, 4000],\n",
    "    }\n",
    "}"
   ]
  },
  {
   "cell_type": "code",
   "execution_count": 12,
   "id": "aee54eea-089a-4965-b52f-02ef475aaa37",
   "metadata": {},
   "outputs": [],
   "source": [
    "markers = [\n",
    "    \"CD38\",\n",
    "    \"Vimentin\",\n",
    "    \"CD21\",\n",
    "    \"BCL6\",\n",
    "    \"ICOS1\",\n",
    "    \"CD11b\",\n",
    "    \"CD11c\",\n",
    "    \"FoxP3\",\n",
    "    \"CD4\",\n",
    "    \"CD138\",\n",
    "    \"CXCR5\",\n",
    "    \"CD20\",\n",
    "    \"CD8\",\n",
    "    \"C-Myc\",\n",
    "    \"PD1\",\n",
    "    \"CD83\",\n",
    "    \"Ki67\",\n",
    "    \"COL1\",\n",
    "    \"CD3\",\n",
    "    \"CD27\",\n",
    "    \"EZH2\",\n",
    "]\n",
    "size = 1000\n",
    "\n",
    "\n",
    "RGB_MAP = {\n",
    "    1: {\"rgb\": np.array([255, 0, 0]), \"range\": [0, 255]},\n",
    "    2: {\"rgb\": np.array([0, 255, 0]), \"range\": [0, 255]},\n",
    "    3: {\"rgb\": np.array([0, 0, 255]), \"range\": [0, 255]},\n",
    "    4: {\"rgb\": np.array([0, 255, 255]), \"range\": [0, 255]},\n",
    "    5: {\"rgb\": np.array([255, 0, 255]), \"range\": [0, 255]},\n",
    "    6: {\"rgb\": np.array([255, 255, 0]), \"range\": [0, 255]},\n",
    "    7: {\"rgb\": np.array([255, 255, 255]), \"range\": [0, 255]},\n",
    "}"
   ]
  },
  {
   "cell_type": "code",
   "execution_count": 21,
   "id": "d0c7c849-2e17-4bc3-bb98-2c00bf47d462",
   "metadata": {},
   "outputs": [],
   "source": [
    "import tifffile as tiff"
   ]
  },
  {
   "cell_type": "code",
   "execution_count": 25,
   "id": "3479e07e-130a-4964-b4c7-fa2b13119893",
   "metadata": {},
   "outputs": [
    {
     "data": {
      "application/vnd.jupyter.widget-view+json": {
       "model_id": "1fb50fa161164d139d62246c93e87f64",
       "version_major": 2,
       "version_minor": 0
      },
      "text/plain": [
       "  0%|          | 0/20 [00:00<?, ?it/s]"
      ]
     },
     "metadata": {},
     "output_type": "display_data"
    },
    {
     "name": "stderr",
     "output_type": "stream",
     "text": [
      "C:\\Users\\thu71\\AppData\\Local\\Temp\\ipykernel_23560\\174003330.py:33: DeprecationWarning: <tifffile.imsave> is deprecated. Use tifffile.imwrite\n",
      "  tiff.imsave(save_path, img_combined, metadata={\"axes\": \"CYX\", \"Labels\": labels}, imagej=True)\n"
     ]
    },
    {
     "data": {
      "application/vnd.jupyter.widget-view+json": {
       "model_id": "984244f542b348e68233d4820310bb6f",
       "version_major": 2,
       "version_minor": 0
      },
      "text/plain": [
       "  0%|          | 0/20 [00:00<?, ?it/s]"
      ]
     },
     "metadata": {},
     "output_type": "display_data"
    },
    {
     "data": {
      "application/vnd.jupyter.widget-view+json": {
       "model_id": "a2b554a48e034de490e6f6f7ced42ae3",
       "version_major": 2,
       "version_minor": 0
      },
      "text/plain": [
       "  0%|          | 0/20 [00:00<?, ?it/s]"
      ]
     },
     "metadata": {},
     "output_type": "display_data"
    },
    {
     "data": {
      "application/vnd.jupyter.widget-view+json": {
       "model_id": "b3ba0800bece4ed2a9cfc9563d3555bd",
       "version_major": 2,
       "version_minor": 0
      },
      "text/plain": [
       "  0%|          | 0/20 [00:00<?, ?it/s]"
      ]
     },
     "metadata": {},
     "output_type": "display_data"
    },
    {
     "data": {
      "application/vnd.jupyter.widget-view+json": {
       "model_id": "0faec569bd9e4a2699a013dd126df693",
       "version_major": 2,
       "version_minor": 0
      },
      "text/plain": [
       "  0%|          | 0/20 [00:00<?, ?it/s]"
      ]
     },
     "metadata": {},
     "output_type": "display_data"
    },
    {
     "data": {
      "application/vnd.jupyter.widget-view+json": {
       "model_id": "d519a41d24e74b2c847c6648e0d42e13",
       "version_major": 2,
       "version_minor": 0
      },
      "text/plain": [
       "  0%|          | 0/20 [00:00<?, ?it/s]"
      ]
     },
     "metadata": {},
     "output_type": "display_data"
    },
    {
     "data": {
      "application/vnd.jupyter.widget-view+json": {
       "model_id": "c89291ca37a040339ca6139174861b7b",
       "version_major": 2,
       "version_minor": 0
      },
      "text/plain": [
       "  0%|          | 0/20 [00:00<?, ?it/s]"
      ]
     },
     "metadata": {},
     "output_type": "display_data"
    }
   ],
   "source": [
    "# Export combined tiff image \n",
    "for donor in donors:\n",
    "    h5_data = p_dir / \"data\" / \"h5_new\" / f\"{donor}.hdf5\"\n",
    "\n",
    "    imgs, labels = get_imgs(h5_data, str(1))\n",
    "    \n",
    "    \n",
    "    # Create combined images\n",
    "    y_max, x_max = get_img_size(arrangement[donor])\n",
    "    img_combined = np.zeros((len(imgs), y_max, x_max), dtype=np.uint8)\n",
    "\n",
    "    ROIs = [i for i in range(1, 21)]\n",
    "    for roi in tqdm(ROIs):\n",
    "        if roi not in arrangement[donor].keys():\n",
    "            continue\n",
    "\n",
    "        # Read imgs\n",
    "        imgs, labels = get_imgs(h5_data, str(roi))\n",
    "\n",
    "        # Insert Combined images\n",
    "        y = arrangement[donor][roi][0]\n",
    "        x = arrangement[donor][roi][1]\n",
    "        img_combined[:, y : y + size, x : x + size] = imgs[:,:1000,:1000]\n",
    "    \n",
    "    for i in range(img_combined.shape[0]):\n",
    "        img_combined[i,...] = contrast_streching(img_combined[i,...])\n",
    "        \n",
    "    save_path = (\n",
    "        p_dir / \"data\" / \"whole_stitched\" / f\"{donor}.tiff\"\n",
    "    )\n",
    "    # img_combined = Image.fromarray(img_combined)\n",
    "    # img_combined.save(save_path)\n",
    "    tiff.imsave(save_path, img_combined, metadata={\"axes\": \"CYX\", \"Labels\": labels}, imagej=True)"
   ]
  },
  {
   "cell_type": "code",
   "execution_count": null,
   "id": "5c2d2660-0ee5-4cdc-a5e1-e69d47970dcb",
   "metadata": {},
   "outputs": [
    {
     "data": {
      "application/vnd.jupyter.widget-view+json": {
       "model_id": "fa937839ad7140cfa2da225de6d8796f",
       "version_major": 2,
       "version_minor": 0
      },
      "text/plain": [
       "  0%|          | 0/20 [00:00<?, ?it/s]"
      ]
     },
     "metadata": {},
     "output_type": "display_data"
    },
    {
     "ename": "TypeError",
     "evalue": "Cannot handle this data type: (1, 1, 21), |u1",
     "output_type": "error",
     "traceback": [
      "\u001b[1;31m---------------------------------------------------------------------------\u001b[0m",
      "\u001b[1;31mKeyError\u001b[0m                                  Traceback (most recent call last)",
      "File \u001b[1;32m~\\Anaconda3\\envs\\scspamet\\lib\\site-packages\\PIL\\Image.py:2953\u001b[0m, in \u001b[0;36mfromarray\u001b[1;34m(obj, mode)\u001b[0m\n\u001b[0;32m   2952\u001b[0m \u001b[38;5;28;01mtry\u001b[39;00m:\n\u001b[1;32m-> 2953\u001b[0m     mode, rawmode \u001b[38;5;241m=\u001b[39m \u001b[43m_fromarray_typemap\u001b[49m\u001b[43m[\u001b[49m\u001b[43mtypekey\u001b[49m\u001b[43m]\u001b[49m\n\u001b[0;32m   2954\u001b[0m \u001b[38;5;28;01mexcept\u001b[39;00m \u001b[38;5;167;01mKeyError\u001b[39;00m \u001b[38;5;28;01mas\u001b[39;00m e:\n",
      "\u001b[1;31mKeyError\u001b[0m: ((1, 1, 21), '|u1')",
      "\nThe above exception was the direct cause of the following exception:\n",
      "\u001b[1;31mTypeError\u001b[0m                                 Traceback (most recent call last)",
      "Cell \u001b[1;32mIn [10], line 34\u001b[0m\n\u001b[0;32m     29\u001b[0m imgs_donors[donor] \u001b[38;5;241m=\u001b[39m img_combined\n\u001b[0;32m     31\u001b[0m save_path \u001b[38;5;241m=\u001b[39m (\n\u001b[0;32m     32\u001b[0m     p_dir \u001b[38;5;241m/\u001b[39m \u001b[38;5;124m\"\u001b[39m\u001b[38;5;124mdata\u001b[39m\u001b[38;5;124m\"\u001b[39m \u001b[38;5;241m/\u001b[39m \u001b[38;5;124m\"\u001b[39m\u001b[38;5;124mwhole_stitched\u001b[39m\u001b[38;5;124m\"\u001b[39m \u001b[38;5;241m/\u001b[39m \u001b[38;5;124mf\u001b[39m\u001b[38;5;124m\"\u001b[39m\u001b[38;5;132;01m{\u001b[39;00mdonor\u001b[38;5;132;01m}\u001b[39;00m\u001b[38;5;124m.tiff\u001b[39m\u001b[38;5;124m\"\u001b[39m\n\u001b[0;32m     33\u001b[0m )\n\u001b[1;32m---> 34\u001b[0m img_combined \u001b[38;5;241m=\u001b[39m Image\u001b[38;5;241m.\u001b[39mfromarray(img_combined)\n\u001b[0;32m     35\u001b[0m img_combined\u001b[38;5;241m.\u001b[39msave(save_path)\n",
      "File \u001b[1;32m~\\Anaconda3\\envs\\scspamet\\lib\\site-packages\\PIL\\Image.py:2955\u001b[0m, in \u001b[0;36mfromarray\u001b[1;34m(obj, mode)\u001b[0m\n\u001b[0;32m   2953\u001b[0m         mode, rawmode \u001b[38;5;241m=\u001b[39m _fromarray_typemap[typekey]\n\u001b[0;32m   2954\u001b[0m     \u001b[38;5;28;01mexcept\u001b[39;00m \u001b[38;5;167;01mKeyError\u001b[39;00m \u001b[38;5;28;01mas\u001b[39;00m e:\n\u001b[1;32m-> 2955\u001b[0m         \u001b[38;5;28;01mraise\u001b[39;00m \u001b[38;5;167;01mTypeError\u001b[39;00m(\u001b[38;5;124m\"\u001b[39m\u001b[38;5;124mCannot handle this data type: \u001b[39m\u001b[38;5;132;01m%s\u001b[39;00m\u001b[38;5;124m, \u001b[39m\u001b[38;5;132;01m%s\u001b[39;00m\u001b[38;5;124m\"\u001b[39m \u001b[38;5;241m%\u001b[39m typekey) \u001b[38;5;28;01mfrom\u001b[39;00m \u001b[38;5;21;01me\u001b[39;00m\n\u001b[0;32m   2956\u001b[0m \u001b[38;5;28;01melse\u001b[39;00m:\n\u001b[0;32m   2957\u001b[0m     rawmode \u001b[38;5;241m=\u001b[39m mode\n",
      "\u001b[1;31mTypeError\u001b[0m: Cannot handle this data type: (1, 1, 21), |u1"
     ]
    }
   ],
   "source": [
    "imgs_donors = {}\n",
    "\n",
    "for donor in donors:\n",
    "    h5_data = p_dir / \"data\" / \"h5_new\" / f\"{donor}.hdf5\"\n",
    "\n",
    "    # Create combined images\n",
    "    y_max, x_max = get_img_size(arrangement[donor])\n",
    "    img_combined = np.zeros((y_max, x_max, len(markers)), dtype=np.uint8)\n",
    "\n",
    "    ROIs = [i for i in range(1, 21)]\n",
    "    for roi in tqdm(ROIs):\n",
    "        if roi not in arrangement[donor].keys():\n",
    "            continue\n",
    "\n",
    "        # Read imgs\n",
    "        imgs, labels = get_imgs(h5_data, str(roi))\n",
    "\n",
    "        # Get multiplex image\n",
    "        data = get_img_subset(imgs, markers, labels)\n",
    "\n",
    "        # Insert Combined images\n",
    "        y = arrangement[donor][roi][0]\n",
    "        x = arrangement[donor][roi][1]\n",
    "        img_combined[y : y + size, x : x + size, :] = data[:1000,:1000]\n",
    "\n",
    "    for i in range(img_combined.shape[2]):\n",
    "        img_combined[...,i] = contrast_streching(img_combined[...,i])\n",
    "        \n",
    "    imgs_donors[donor] = img_combined"
   ]
  },
  {
   "cell_type": "code",
   "execution_count": 14,
   "id": "71e233ba-dd85-4da7-b325-e7b6726badc4",
   "metadata": {},
   "outputs": [],
   "source": [
    "markers_subset = [\"CD3\", \"CD4\", \"ICOS1\", \"CXCR5\", \"BCL6\"]\n",
    "\n",
    "channels = [i + 1 for i in range(len(markers_subset))]\n",
    "for donor in donors:\n",
    "    imgs_all = imgs_donors[donor]\n",
    "    img_temp = get_img_subset1(imgs_all, markers_subset, markers) \n",
    "    img_combined = my_utils.convert_to_rgb(\n",
    "        img_temp, channels=channels, vmax=255, rgb_map=RGB_MAP\n",
    "    )\n",
    "        \n",
    "    save_path = (\n",
    "        p_dir / \"figures\" / \"multiplex\" / f\"combined_{donor}_{markers_subset}.png\"\n",
    "    )\n",
    "    img_combined = Image.fromarray(img_combined)\n",
    "    img_combined.save(save_path)"
   ]
  },
  {
   "cell_type": "code",
   "execution_count": 15,
   "id": "b0676304-c28a-4943-aaf6-5cc48da40ba3",
   "metadata": {},
   "outputs": [],
   "source": [
    "markers_subset = [\"CD38\", \"CD138\", \"CD27\", \"Vimentin\", \"COL1\"]\n",
    "channels = [i + 1 for i in range(len(markers_subset))]\n",
    "for donor in donors:\n",
    "    imgs_all = imgs_donors[donor]\n",
    "    img_temp = get_img_subset1(imgs_all, markers_subset, markers) \n",
    "    img_combined = my_utils.convert_to_rgb(\n",
    "        img_temp, channels=channels, vmax=255, rgb_map=RGB_MAP\n",
    "    )\n",
    "        \n",
    "    save_path = (\n",
    "        p_dir / \"figures\" / \"multiplex\" / f\"combined_{donor}_{markers_subset}.png\"\n",
    "    )\n",
    "    img_combined = Image.fromarray(img_combined)\n",
    "    img_combined.save(save_path)"
   ]
  },
  {
   "cell_type": "code",
   "execution_count": 16,
   "id": "bc80975d-11cc-4b60-bbb1-0ce6d9e181c9",
   "metadata": {},
   "outputs": [],
   "source": [
    "markers_subset = [\"Ki67\", \"CD21\", \"CD20\", \"C-Myc\", \"CD83\"]\n",
    "channels = [i + 1 for i in range(len(markers_subset))]\n",
    "for donor in donors:\n",
    "    imgs_all = imgs_donors[donor]\n",
    "    img_temp = get_img_subset1(imgs_all, markers_subset, markers) \n",
    "    img_combined = my_utils.convert_to_rgb(\n",
    "        img_temp, channels=channels, vmax=255, rgb_map=RGB_MAP\n",
    "    )\n",
    "        \n",
    "    save_path = (\n",
    "        p_dir / \"figures\" / \"multiplex\" / f\"combined_{donor}_{markers_subset}.png\"\n",
    "    )\n",
    "    img_combined = Image.fromarray(img_combined)\n",
    "    img_combined.save(save_path)"
   ]
  },
  {
   "cell_type": "code",
   "execution_count": null,
   "id": "d970a8db-b664-4233-919b-afa45b68d44f",
   "metadata": {},
   "outputs": [],
   "source": []
  }
 ],
 "metadata": {
  "kernelspec": {
   "display_name": "Python [conda env:scspamet]",
   "language": "python",
   "name": "conda-env-scspamet-py"
  },
  "language_info": {
   "codemirror_mode": {
    "name": "ipython",
    "version": 3
   },
   "file_extension": ".py",
   "mimetype": "text/x-python",
   "name": "python",
   "nbconvert_exporter": "python",
   "pygments_lexer": "ipython3",
   "version": "3.10.6"
  }
 },
 "nbformat": 4,
 "nbformat_minor": 5
}
