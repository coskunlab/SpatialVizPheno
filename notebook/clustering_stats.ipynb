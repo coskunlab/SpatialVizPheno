{
 "cells": [
  {
   "cell_type": "code",
   "execution_count": 2,
   "id": "9c81d4ed-2ee8-4fa2-abc5-713ecb5e2561",
   "metadata": {},
   "outputs": [],
   "source": [
    "import os\n",
    "import re\n",
    "import sys\n",
    "from pathlib import Path\n",
    "\n",
    "import matplotlib.pyplot as plt\n",
    "import numpy as np\n",
    "import pandas as pd\n",
    "import scanpy as sc\n",
    "import skimage\n",
    "import squidpy as sq\n",
    "import anndata as ad\n",
    "import seaborn as sns\n",
    "from matplotlib.pyplot import rc_context\n",
    "from kneed import KneeLocator\n",
    "from matplotlib.ticker import MaxNLocator\n",
    "from sklearn.cluster import MiniBatchKMeans"
   ]
  },
  {
   "cell_type": "code",
   "execution_count": 3,
   "id": "35d1ce86-6606-464d-a4d3-b0b01e09bd55",
   "metadata": {},
   "outputs": [],
   "source": [
    "p_dir = (Path().cwd().parents[0]).absolute()\n",
    "data_dir = p_dir / \"data\""
   ]
  },
  {
   "cell_type": "code",
   "execution_count": 4,
   "id": "66b4d9fa-7e18-4605-ad98-ccf9fbea7bbc",
   "metadata": {},
   "outputs": [],
   "source": [
    "%load_ext autoreload\n",
    "%autoreload 2\n",
    "\n",
    "module_path = str(p_dir / \"src\")\n",
    "\n",
    "if module_path not in sys.path:\n",
    "    sys.path.append(module_path)\n"
   ]
  },
  {
   "cell_type": "code",
   "execution_count": 5,
   "id": "ec5e006f-f4ee-4e92-86e3-1cd15db7bdca",
   "metadata": {},
   "outputs": [],
   "source": [
    "donor = f\"combined_04_27\"\n",
    "\n",
    "all_donor = [\n",
    "    \"LN Donor A\",\n",
    "    \"LN Donor E\",\n",
    "    \"INT Donor B\",\n",
    "    \"INT Donor E\",\n",
    "    \"TS Donor A\",\n",
    "    \"TS Donor E\",\n",
    "    \"SP Donor A\"\n",
    "]\n"
   ]
  },
  {
   "cell_type": "markdown",
   "id": "69e4b212-73f5-49ed-bee2-3b0ac3eead1b",
   "metadata": {
    "tags": []
   },
   "source": [
    "# Import data"
   ]
  },
  {
   "cell_type": "code",
   "execution_count": 6,
   "id": "bbb86b0d-ed87-40eb-9c66-dc8cbeaeb3dc",
   "metadata": {},
   "outputs": [],
   "source": [
    "def get_masks_cp(mask_folder):\n",
    "    \"\"\"\n",
    "    Function to get all mask from mask forlder\n",
    "    \"\"\"\n",
    "    # Read masks\n",
    "    masks = {}\n",
    "\n",
    "    for (dirpath, dirnames, filenames) in os.walk(mask_folder):\n",
    "        for name in sorted(filenames):\n",
    "            if \"tif\" in name:\n",
    "                filename = os.path.join(dirpath, name)\n",
    "                img = skimage.io.imread(filename)\n",
    "                condition = name.split(\"_\")[2].split(\"Donor\")[0]\n",
    "                masks[condition] = img[:1000, :1000]\n",
    "            else:\n",
    "                continue\n",
    "    return masks"
   ]
  },
  {
   "cell_type": "code",
   "execution_count": 7,
   "id": "02b63f32-55ea-4da2-ba03-08487d09c62b",
   "metadata": {},
   "outputs": [],
   "source": [
    "adata_path = data_dir / \"metadata\" / f\"{donor}.h5ad\""
   ]
  },
  {
   "cell_type": "code",
   "execution_count": 8,
   "id": "88212222-2020-4fa2-a249-023320c6b0d6",
   "metadata": {},
   "outputs": [],
   "source": [
    "adata = sc.read_h5ad(adata_path)"
   ]
  },
  {
   "cell_type": "code",
   "execution_count": 9,
   "id": "dd16e1bd-823a-4823-a4ff-4dd62a8e19f7",
   "metadata": {},
   "outputs": [],
   "source": [
    "if \"combined\" in donor:\n",
    "    masks = {}\n",
    "    for d in all_donor:\n",
    "        masks[d] = get_masks_cp(data_dir / \"masks_cp\" / d)\n",
    "else:\n",
    "    masks = get_masks_cp(data_dir / \"masks_cp\" / donor)"
   ]
  },
  {
   "cell_type": "code",
   "execution_count": 10,
   "id": "4538d460-4d9a-40c8-be53-07022cadc614",
   "metadata": {},
   "outputs": [],
   "source": [
    "adata = adata[adata.obs['Dataset'].isin(all_donor)]"
   ]
  },
  {
   "cell_type": "code",
   "execution_count": 11,
   "id": "7d83584b-72bf-40bb-b9a2-64e00348e22b",
   "metadata": {},
   "outputs": [],
   "source": [
    "df_cluster = sc.get.obs_df(adata, keys=['Dataset', 'clusters'])\n",
    "df_cluster_count = df_cluster.value_counts().to_frame('counts').reset_index()\n",
    "df_cluster_count['Density'] = df_cluster_count.groupby('Dataset')[\"counts\"].apply(lambda x: x / x.sum())\n",
    "df_cluster_count['Dataset'] = pd.Categorical(df_cluster_count['Dataset'])"
   ]
  },
  {
   "cell_type": "code",
   "execution_count": 12,
   "id": "60c825c3-f73e-49b2-bf82-82ee8073f602",
   "metadata": {},
   "outputs": [
    {
     "data": {
      "image/png": "[encoded data removed]",
      "text/plain": [
       "<Figure size 1296x720 with 1 Axes>"
      ]
     },
     "metadata": {
      "needs_background": "light"
     },
     "output_type": "display_data"
    }
   ],
   "source": [
    "fig, ax = plt.subplots(figsize=(18, 10))\n",
    "ax = sns.histplot(data=df_cluster_count, x='Dataset' , hue='clusters', weights='Density',\n",
    "             multiple='stack', shrink=0.8, palette=adata.uns['clusters_colors'].tolist())\n",
    "ax.set_ylabel('Density')\n",
    "# Fix the legend so it's not on top of the bars.\n",
    "legend = ax.get_legend()\n",
    "legend.set_bbox_to_anchor((1, 1))\n",
    "ax.grid(False)"
   ]
  },
  {
   "cell_type": "code",
   "execution_count": 13,
   "id": "05d1db11-9e61-4547-a241-7d1293702205",
   "metadata": {},
   "outputs": [
    {
     "name": "stderr",
     "output_type": "stream",
     "text": [
      "C:\\Users\\thu71\\AppData\\Local\\Temp/ipykernel_156132/30411856.py:3: FutureWarning: X.dtype being converted to np.float32 from float64. In the next version of anndata (0.9) conversion will not be automatic. Pass dtype explicitly to avoid this warning. Pass `AnnData(X, dtype=X.dtype, ...)` to get the future behavour.\n",
      "  adata_count = ad.AnnData(df_count.values)\n"
     ]
    }
   ],
   "source": [
    "df_count = pd.pivot_table(df_cluster_count, values='Density', index='Dataset', columns='clusters')\n",
    "\n",
    "adata_count = ad.AnnData(df_count.values)\n",
    "adata_count.var_names = df_count.columns.tolist()\n",
    "adata_count.obs['Dataset'] = df_count.index.tolist()\n",
    "adata_count.obs['Dataset'] = adata_count.obs['Dataset'].astype('category')"
   ]
  },
  {
   "cell_type": "code",
   "execution_count": 14,
   "id": "26870d54-2d1b-497d-896e-8676bc69e6dd",
   "metadata": {},
   "outputs": [
    {
     "name": "stdout",
     "output_type": "stream",
     "text": [
      "WARNING: dendrogram data not found (using key=dendrogram_Dataset). Running `sc.tl.dendrogram` with default parameters. For fine tuning it is recommended to run `sc.tl.dendrogram` independently.\n"
     ]
    },
    {
     "data": {
      "image/png": "[encoded data removed]",
      "text/plain": [
       "<Figure size 725.04x248.4 with 4 Axes>"
      ]
     },
     "metadata": {
      "needs_background": "light"
     },
     "output_type": "display_data"
    }
   ],
   "source": [
    "sc.pl.matrixplot(\n",
    "    adata_count,\n",
    "    adata_count.var_names.tolist(),\n",
    "    \"Dataset\",\n",
    "    dendrogram=True,\n",
    "    colorbar_title=\"mean frequency\",\n",
    "    cmap=\"RdBu_r\",\n",
    "\n",
    ")"
   ]
  }
 ],
 "metadata": {
  "kernelspec": {
   "display_name": "Python [conda env:new_codex]",
   "language": "python",
   "name": "conda-env-new_codex-py"
  },
  "language_info": {
   "codemirror_mode": {
    "name": "ipython",
    "version": 3
   },
   "file_extension": ".py",
   "mimetype": "text/x-python",
   "name": "python",
   "nbconvert_exporter": "python",
   "pygments_lexer": "ipython3",
   "version": "3.9.7"
  }
 },
 "nbformat": 4,
 "nbformat_minor": 5
}
