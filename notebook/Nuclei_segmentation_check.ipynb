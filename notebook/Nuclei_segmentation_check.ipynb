{
 "cells": [
  {
   "cell_type": "code",
   "execution_count": 96,
   "id": "ee90c8fd-5dde-403a-b954-fa369092cef0",
   "metadata": {
    "ExecuteTime": {
     "end_time": "2021-12-08T15:29:24.808343Z",
     "start_time": "2021-12-08T15:29:24.000653Z"
    }
   },
   "outputs": [],
   "source": [
    "import os\n",
    "import re\n",
    "import sys\n",
    "from pathlib import Path\n",
    "\n",
    "import h5py\n",
    "import matplotlib.pyplot as plt\n",
    "import numpy as np\n",
    "import pandas as pd\n",
    "import scanpy as sc\n",
    "import skimage\n",
    "import squidpy as sq\n",
    "from joblib import Parallel, delayed\n",
    "from skimage import exposure, io\n",
    "from tqdm.notebook import tqdm, trange\n",
    "\n",
    "sc.settings.verbosity = 3\n",
    "\n",
    "from functools import reduce\n",
    "\n",
    "import anndata as ad\n",
    "import scanorama\n",
    "import seaborn as sns\n",
    "from matplotlib import cm, colors\n",
    "from matplotlib.pyplot import rc_context\n",
    "from sklearn.preprocessing import MinMaxScaler, StandardScaler\n",
    "\n",
    "import warnings\n",
    "warnings.simplefilter(action='ignore', category=FutureWarning)"
   ]
  },
  {
   "cell_type": "code",
   "execution_count": 97,
   "id": "14a49692-7367-4050-bbc6-9fbaad514dea",
   "metadata": {
    "ExecuteTime": {
     "end_time": "2021-12-08T15:28:04.601177Z",
     "start_time": "2021-12-08T15:28:04.597178Z"
    }
   },
   "outputs": [],
   "source": [
    "import multiprocessing\n",
    "\n",
    "n_cpu = multiprocessing.cpu_count()"
   ]
  },
  {
   "cell_type": "code",
   "execution_count": 98,
   "id": "e1baa4b5-854e-4854-b612-a72f28a8bb90",
   "metadata": {
    "ExecuteTime": {
     "end_time": "2021-12-08T15:28:04.823173Z",
     "start_time": "2021-12-08T15:28:04.817179Z"
    }
   },
   "outputs": [],
   "source": [
    "p_dir = (Path().cwd().parents[0]).absolute()\n",
    "data_dir = p_dir / \"data\""
   ]
  },
  {
   "cell_type": "code",
   "execution_count": 99,
   "id": "57ebdfa2-b612-43fe-80e3-96ec1f05a6a2",
   "metadata": {
    "ExecuteTime": {
     "end_time": "2021-12-08T15:28:06.153485Z",
     "start_time": "2021-12-08T15:28:05.252168Z"
    }
   },
   "outputs": [
    {
     "name": "stdout",
     "output_type": "stream",
     "text": [
      "The autoreload extension is already loaded. To reload it, use:\n",
      "  %reload_ext autoreload\n"
     ]
    }
   ],
   "source": [
    "%load_ext autoreload\n",
    "%autoreload 2\n",
    "\n",
    "module_path = str(p_dir / \"src\")\n",
    "\n",
    "if module_path not in sys.path:\n",
    "    sys.path.append(module_path)\n",
    "\n",
    "import utils as my_utils"
   ]
  },
  {
   "cell_type": "code",
   "execution_count": 100,
   "id": "d90604f3-c9f0-407e-b03a-78de0bcc13d0",
   "metadata": {
    "ExecuteTime": {
     "end_time": "2021-12-08T15:28:07.510065Z",
     "start_time": "2021-12-08T15:28:07.020133Z"
    }
   },
   "outputs": [],
   "source": [
    "donors = [\n",
    "    \"LN Donor A\",\n",
    "    \"LN Donor E\",\n",
    "    \"INT Donor B\",\n",
    "    \"INT Donor E\",\n",
    "    \"TS Donor A\",\n",
    "    \"TS Donor E\",\n",
    "    \"SP Donor A\"\n",
    "]\n"
   ]
  },
  {
   "cell_type": "markdown",
   "id": "55079b0b-181d-4681-86de-2c8d37725cd8",
   "metadata": {},
   "source": [
    "# Import data"
   ]
  },
  {
   "cell_type": "code",
   "execution_count": 101,
   "id": "1aa962c9-0dfd-4943-b3f9-e5ed0ace3f03",
   "metadata": {},
   "outputs": [],
   "source": [
    "import napari\n",
    "import matplotlib.patches as mpatches\n",
    "from skimage.segmentation import mark_boundaries\n",
    "import collections\n",
    "\n",
    "def get_imgs(file_path, name):\n",
    "    f = h5py.File(file_path, \"r\")\n",
    "    imgs = f[name]\n",
    "    labels = list(f[name].attrs[\"labels\"])\n",
    "    return imgs, labels\n",
    "\n",
    "\n",
    "def contrast_streching(img):\n",
    "    p2, p98 = np.percentile(img, (1, 99))\n",
    "    return exposure.rescale_intensity(img, in_range=(p2, p98))\n",
    "\n",
    "\n",
    "# Read mask image\n",
    "def get_masks(mask_folder):\n",
    "    \"\"\"\n",
    "    Function to get all mask from mask forlder\n",
    "    \"\"\"\n",
    "    # Read masks\n",
    "    masks = {}\n",
    "\n",
    "    for (dirpath, dirnames, filenames) in os.walk(mask_folder):\n",
    "        for name in sorted(filenames):\n",
    "            if \"tif\" in name:\n",
    "                filename = os.path.join(dirpath, name)\n",
    "                img = skimage.io.imread(filename)\n",
    "                condition = int(name.split(\"_\")[0])\n",
    "                masks[condition] = img\n",
    "    return collections.OrderedDict(sorted(masks.items()))\n",
    "\n",
    "def get_imgs(imgs_folder):\n",
    "    imgs = {}\n",
    "    for (dirpath, dirnames, filenames) in os.walk(imgs_folder):\n",
    "        for name in sorted(filenames):\n",
    "            if \"png\" in name:\n",
    "                img = io.imread(os.path.join(dirpath, name))\n",
    "                condition = int(name.split(\".\")[0])\n",
    "                imgs[condition] = img\n",
    "    return collections.OrderedDict(sorted(imgs.items()))    "
   ]
  },
  {
   "cell_type": "code",
   "execution_count": 102,
   "id": "34a18753-0acd-4119-a0f5-5d1967562bf4",
   "metadata": {},
   "outputs": [],
   "source": [
    "nuclei_image_path = p_dir / 'data' / 'ROI_nuclei' \n",
    "nuclei_mask_path =  p_dir / 'data' / 'masks_nuclei_v2'"
   ]
  },
  {
   "cell_type": "code",
   "execution_count": 103,
   "id": "120fc6a2-bfed-4859-b183-78d661e7a6f7",
   "metadata": {},
   "outputs": [],
   "source": [
    "donor = donors[5]"
   ]
  },
  {
   "cell_type": "code",
   "execution_count": 104,
   "id": "d7f7f161-25c5-4944-b585-effc956ffcfd",
   "metadata": {},
   "outputs": [],
   "source": [
    "masks = get_masks(nuclei_mask_path / donor)\n",
    "imgs = get_imgs(nuclei_image_path / donor)"
   ]
  },
  {
   "cell_type": "code",
   "execution_count": 105,
   "id": "8769982a-ac0c-4433-8803-d20ea174fcd1",
   "metadata": {},
   "outputs": [],
   "source": [
    "# viewer = napari.view_image(np.stack(imgs.values()))\n",
    "# viewer.add_labels(np.stack(masks.values()))"
   ]
  },
  {
   "cell_type": "markdown",
   "id": "262e0ca8-759e-4a88-b23e-2dfda4272690",
   "metadata": {},
   "source": [
    "# Expand nuclei"
   ]
  },
  {
   "cell_type": "code",
   "execution_count": 106,
   "id": "c14f9686-0093-4fdc-8434-42701bd6dcb1",
   "metadata": {},
   "outputs": [],
   "source": [
    "import matplotlib.colors as mcolors\n",
    "from scipy.ndimage import distance_transform_edt\n",
    "from skimage.segmentation import mark_boundaries\n",
    "\n",
    "def expand_labels(label_image, distance=1):\n",
    "    distances, nearest_label_coords = distance_transform_edt(\n",
    "        label_image == 0, return_indices=True\n",
    "    )\n",
    "    labels_out = np.zeros_like(label_image)\n",
    "    dilate_mask = distances <= distance\n",
    "    # build the coordinates to find nearest labels,\n",
    "    # in contrast to [1] this implementation supports label arrays\n",
    "    # of any dimension\n",
    "    masked_nearest_label_coords = [\n",
    "        dimension_indices[dilate_mask]\n",
    "        for dimension_indices in nearest_label_coords\n",
    "    ]\n",
    "    nearest_labels = label_image[tuple(masked_nearest_label_coords)]\n",
    "    labels_out[dilate_mask] = nearest_labels\n",
    "    return labels_out\n",
    "\n",
    "def save_mask(mask, folder, region):\n",
    "    folder.mkdir(parents=True, exist_ok=True)\n",
    "    path = os.path.join(folder, f'{region}' + \".tif\")\n",
    "    skimage.io.imsave(path, mask)        \n"
   ]
  },
  {
   "cell_type": "code",
   "execution_count": 107,
   "id": "c3a34ced-db96-41d1-b37e-c5f4efe13aa8",
   "metadata": {},
   "outputs": [],
   "source": [
    "cyto_mask_path = p_dir / 'data' / 'masks'"
   ]
  },
  {
   "cell_type": "code",
   "execution_count": 108,
   "id": "d7e3b034-e1e6-44d3-a339-241cceac4de9",
   "metadata": {},
   "outputs": [],
   "source": [
    "masks_expanded = collections.OrderedDict()    \n",
    "for region in masks.keys():\n",
    "    mask = expand_labels(masks[region], distance=2)\n",
    "    masks_expanded[region] = mask"
   ]
  },
  {
   "cell_type": "code",
   "execution_count": 109,
   "id": "f3c03740-e30a-44a1-a815-4a4c4ff4e688",
   "metadata": {},
   "outputs": [
    {
     "name": "stderr",
     "output_type": "stream",
     "text": [
      "C:\\Users\\thu71\\AppData\\Roaming\\Python\\Python39\\site-packages\\napari\\plugins\\_plugin_manager.py:549: UserWarning: Plugin 'napari-crop' has already registered a function widget 'crop region' which has now been overwritten\n",
      "  warn(message=warn_message)\n"
     ]
    },
    {
     "data": {
      "text/plain": [
       "<Labels layer 'Labels' at 0x26a9e427490>"
      ]
     },
     "execution_count": 109,
     "metadata": {},
     "output_type": "execute_result"
    }
   ],
   "source": [
    "viewer = napari.view_image(np.stack(imgs.values()))\n",
    "viewer.add_labels(np.stack(masks_expanded.values()))"
   ]
  },
  {
   "cell_type": "code",
   "execution_count": 110,
   "id": "230c6855-33a2-4cfc-a352-3a62587977de",
   "metadata": {},
   "outputs": [],
   "source": [
    "for region, mask in masks_expanded.items():\n",
    "    save_mask(mask, cyto_mask_path / donor, region)"
   ]
  },
  {
   "cell_type": "code",
   "execution_count": null,
   "id": "ad40284a-629b-4feb-869a-7b105ca6b7c0",
   "metadata": {},
   "outputs": [],
   "source": []
  }
 ],
 "metadata": {
  "kernelspec": {
   "display_name": "Python [conda env:.conda-thomas-env] *",
   "language": "python",
   "name": "conda-env-.conda-thomas-env-py"
  },
  "language_info": {
   "codemirror_mode": {
    "name": "ipython",
    "version": 3
   },
   "file_extension": ".py",
   "mimetype": "text/x-python",
   "name": "python",
   "nbconvert_exporter": "python",
   "pygments_lexer": "ipython3",
   "version": "3.9.7"
  }
 },
 "nbformat": 4,
 "nbformat_minor": 5
}
