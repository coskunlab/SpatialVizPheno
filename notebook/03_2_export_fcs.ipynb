{
 "cells": [
  {
   "cell_type": "code",
   "execution_count": 8,
   "id": "102764be-e998-4cf4-a8ba-b7acd6319f75",
   "metadata": {},
   "outputs": [],
   "source": [
    "import re\n",
    "import os \n",
    "import sys \n",
    "\n",
    "import numpy as np\n",
    "import matplotlib.pyplot as plt\n",
    "import skimage\n",
    "from skimage import io\n",
    "\n",
    "from pathlib import Path\n",
    "from tqdm.notebook import trange, tqdm\n",
    "from joblib import Parallel, delayed\n",
    "from skimage import exposure\n",
    "import h5py\n",
    "import pandas as pd\n",
    "import scanpy as sc\n",
    "import anndata as ad\n",
    "import squidpy as sq\n",
    "sc.settings.verbosity = 3\n",
    "\n",
    "from matplotlib.pyplot import rc_context\n",
    "from sklearn.preprocessing import StandardScaler, MinMaxScaler\n",
    "\n",
    "from functools import reduce\n",
    "from matplotlib import cm, colors\n",
    "import scanorama\n",
    "import seaborn as sns \n"
   ]
  },
  {
   "cell_type": "code",
   "execution_count": 9,
   "id": "66da4f73-b054-4306-b586-98aa8dc13c51",
   "metadata": {},
   "outputs": [],
   "source": [
    "p_dir = (Path().cwd().parents[0]).absolute()\n",
    "data_dir = p_dir / 'data' "
   ]
  },
  {
   "cell_type": "code",
   "execution_count": 10,
   "id": "3b2ac141-8ba1-469d-90c8-9574b8ebf1eb",
   "metadata": {},
   "outputs": [
    {
     "name": "stdout",
     "output_type": "stream",
     "text": [
      "The autoreload extension is already loaded. To reload it, use:\n",
      "  %reload_ext autoreload\n"
     ]
    }
   ],
   "source": [
    "%load_ext autoreload\n",
    "%autoreload 2\n",
    "\n",
    "module_path = str(p_dir / \"src\")\n",
    "\n",
    "if module_path not in sys.path:\n",
    "    sys.path.append(module_path)\n",
    "\n",
    "import utils as my_utils"
   ]
  },
  {
   "cell_type": "code",
   "execution_count": 11,
   "id": "072c6ce8-e239-41d2-885e-4763ed7ff442",
   "metadata": {},
   "outputs": [],
   "source": [
    "donors = [\n",
    "    \"LN Donor A\",\n",
    "    \"LN Donor E\",\n",
    "    \"INT Donor B\",\n",
    "    \"INT Donor E\",\n",
    "    \"TS Donor A\",\n",
    "    \"TS Donor E\",\n",
    "]\n",
    "\n"
   ]
  },
  {
   "cell_type": "markdown",
   "id": "d451087b-dde9-4adb-bcd4-5d44209e09cf",
   "metadata": {
    "tags": []
   },
   "source": [
    "# Read IMC Data"
   ]
  },
  {
   "cell_type": "code",
   "execution_count": 12,
   "id": "fe113e82-337c-41bc-9b16-8f6e2f29c982",
   "metadata": {
    "ExecuteTime": {
     "end_time": "2021-12-07T14:44:37.607207Z",
     "start_time": "2021-12-07T14:44:37.217802Z"
    },
    "tags": []
   },
   "outputs": [],
   "source": [
    "import matplotlib.patches as mpatches\n",
    "from skimage.segmentation import mark_boundaries\n",
    "\n",
    "donors = [\n",
    "    \"LN Donor A\",\n",
    "    \"LN Donor E\",\n",
    "    \"INT Donor B\",\n",
    "    \"INT Donor E\",\n",
    "    \"TS Donor A\",\n",
    "    \"TS Donor E\",\n",
    "]\n",
    "\n",
    "\n",
    "def get_imgs(file_path, name):\n",
    "    f = h5py.File(file_path, \"r\")\n",
    "    imgs = f[name]\n",
    "    labels = list(f[name].attrs[\"labels\"])\n",
    "    return imgs, labels\n",
    "\n",
    "\n",
    "def contrast_streching(img):\n",
    "    p2, p98 = np.percentile(img, (1, 99))\n",
    "    return exposure.rescale_intensity(img, in_range=(p2, p98))\n",
    "\n",
    "\n",
    "# Read mask image\n",
    "def get_masks(mask_folder):\n",
    "    \"\"\"\n",
    "    Function to get all mask from mask forlder\n",
    "    \"\"\"\n",
    "    # Read masks\n",
    "    masks = {}\n",
    "\n",
    "    for (dirpath, dirnames, filenames) in os.walk(mask_folder):\n",
    "        for name in sorted(filenames):\n",
    "            if \"tif\" in name:\n",
    "                filename = os.path.join(dirpath, name)\n",
    "                img = skimage.io.imread(filename)\n",
    "                condition =  name.split(\".\")[0]\n",
    "                masks[condition] = img\n",
    "            else:\n",
    "                continue\n",
    "    return masks\n",
    "\n",
    "def read_intensity_per_cell(img, mask):\n",
    "    props = skimage.measure.regionprops_table(\n",
    "        mask, img, properties=[\"label\", \"mean_intensity\", \"area\"]\n",
    "    )\n",
    "    df_prop = pd.DataFrame(props)\n",
    "    df_prop[\"mean_intensity\"] = df_prop[\"mean_intensity\"]\n",
    "    df_prop.drop(\"area\", axis=1, inplace=True)\n",
    "\n",
    "    return df_prop\n",
    "\n",
    "def get_img_subset(imgs, marker):\n",
    "    imgs_subset = []\n",
    "    for marker in markers:\n",
    "        idx = labels.index(marker)\n",
    "        imgs_subset.append(imgs[idx][:1000, :1000])\n",
    "    return imgs_subset"
   ]
  },
  {
   "cell_type": "code",
   "execution_count": 13,
   "id": "804e37a6-07a2-422f-9231-e5ff53580a08",
   "metadata": {
    "ExecuteTime": {
     "end_time": "2021-12-07T14:44:38.584462Z",
     "start_time": "2021-12-07T14:44:38.104430Z"
    }
   },
   "outputs": [],
   "source": [
    "markers = [\n",
    "    \"CD38\",\n",
    "    \"Vimentin\",\n",
    "    \"CD21\",\n",
    "    \"BCL6\",\n",
    "    \"ICOS1\",\n",
    "    \"CD11b\",\n",
    "    'CXCR4',\n",
    "    \"CD11c\",\n",
    "    \"FoxP3\",\n",
    "    \"CD4\",\n",
    "    \"CD138\",\n",
    "    \"CXCR5\",\n",
    "    \"CD20\",\n",
    "    \"CD8\",\n",
    "    \"C-Myc\",\n",
    "    \"PD1\",\n",
    "    \"CD83\",\n",
    "    \"Ki67\",\n",
    "    \"COL1\",\n",
    "    \"CD3\",\n",
    "    \"CD27\",\n",
    "    \"EZH2\",\n",
    "    \"H3K27me3\",\n",
    "]\n",
    "df_all = []\n",
    "centroids = []"
   ]
  },
  {
   "cell_type": "code",
   "execution_count": 14,
   "id": "0dad26ce-53e7-4ce2-ae39-b6611551b7c1",
   "metadata": {
    "ExecuteTime": {
     "end_time": "2021-12-07T14:44:39.797651Z",
     "start_time": "2021-12-07T14:44:39.217121Z"
    },
    "jupyter": {
     "source_hidden": true
    },
    "tags": []
   },
   "outputs": [],
   "source": [
    "# Format row, col\n",
    "arrangement = {\n",
    "    \"LN Donor A\": {\n",
    "        1: [0, 1000],\n",
    "        2: [0, 2000],\n",
    "        3: [1000, 0],\n",
    "        4: [1000, 1000],\n",
    "        5: [1000, 2000],\n",
    "        6: [1000, 3000],\n",
    "        7: [2000, 0],\n",
    "        8: [2000, 1000],\n",
    "        9: [2000, 2000],\n",
    "        10: [2000, 3000],\n",
    "        11: [3000, 0],\n",
    "        12: [3000, 1000],\n",
    "        13: [3000, 2000],\n",
    "        14: [3000, 3000],\n",
    "        15: [4000, 1000],\n",
    "        16: [4000, 2000],\n",
    "    },\n",
    "    \"LN Donor E\": {\n",
    "        1: [1000, 0],\n",
    "        2: [1000, 1000],\n",
    "        3: [1000, 2000],\n",
    "        4: [1000, 3000],\n",
    "        5: [1000, 4000],\n",
    "        6: [1000, 5000],\n",
    "        7: [1000, 6000],\n",
    "        8: [1000, 7000],\n",
    "        9: [1000, 8000],\n",
    "        10: [0, 0],\n",
    "        11: [0, 1000],\n",
    "        12: [0, 2000],\n",
    "        13: [0, 3000],\n",
    "        14: [0, 4000],\n",
    "    },\n",
    "    \"INT Donor B\": {\n",
    "        1: [0, 0],\n",
    "        2: [0, 1000],\n",
    "        3: [1000, 0],\n",
    "        4: [1000, 1000],\n",
    "        5: [2000, 0],\n",
    "        6: [2000, 1000],\n",
    "        7: [2000, 2000],\n",
    "        8: [2000, 3000],\n",
    "        9: [3000, 0],\n",
    "        10: [3000, 1000],\n",
    "        11: [3000, 2000],\n",
    "        12: [3000, 3000],\n",
    "        13: [4000, 0],\n",
    "        14: [4000, 1000],\n",
    "        15: [4000, 2000],\n",
    "        16: [4000, 3000],\n",
    "        # 17: [5000, 0],\n",
    "        # 18: [5000, 1000],\n",
    "        # 19: [5000, 2000],\n",
    "        # 20: [5000, 3000],\n",
    "    },\n",
    "    \"INT Donor E\": {\n",
    "        1: [0, 0],\n",
    "        2: [0, 1000],\n",
    "        3: [0, 2000],\n",
    "        4: [0, 3000],\n",
    "        # 5: [0, 4000],\n",
    "        6: [1000, 0],\n",
    "        7: [1000, 1000],\n",
    "        8: [1000, 2000],\n",
    "        9: [1000, 3000],\n",
    "        10: [1000, 4000],\n",
    "        11: [2000, 3000],\n",
    "        12: [2000, 4000],\n",
    "        13: [3000, 3000],\n",
    "        14: [3000, 4000],\n",
    "        15: [4000, 3000],\n",
    "        16: [4000, 4000],\n",
    "    },\n",
    "    \"TS Donor A\": {\n",
    "        1: [0, 0],\n",
    "        2: [0, 1000],\n",
    "        3: [0, 2000],\n",
    "        4: [0, 3000],\n",
    "        5: [0, 4000],\n",
    "        6: [0, 5000],\n",
    "        7: [0, 6000],\n",
    "        8: [1000, 0],\n",
    "        9: [1000, 1000],\n",
    "        10: [1000, 2000],\n",
    "        11: [1000, 3000],\n",
    "        12: [1000, 4000],\n",
    "        13: [1000, 5000],\n",
    "        14: [1000, 6000],\n",
    "    },\n",
    "    \"TS Donor E\": {\n",
    "        1: [0, 0],\n",
    "        2: [0, 1000],\n",
    "        3: [0, 2000],\n",
    "        4: [1000, 0],\n",
    "        5: [1000, 1000],\n",
    "        6: [1000, 2000],\n",
    "        7: [2000, 0],\n",
    "        8: [2000, 1000],\n",
    "        9: [2000, 2000],\n",
    "        10: [3000, 0],\n",
    "        11: [3000, 1000],\n",
    "        12: [3000, 2000],\n",
    "        13: [4000, 0],\n",
    "        14: [4000, 1000],\n",
    "        15: [4000, 2000],\n",
    "        16: [5000, 0],\n",
    "        17: [5000, 1000],\n",
    "        18: [5000, 2000],\n",
    "    },\n",
    "    \"SP Donor A\": {\n",
    "        1: [0, 0],\n",
    "        2: [0, 1000],\n",
    "        3: [0, 2000],\n",
    "        4: [0, 3000],\n",
    "        5: [0, 4000],\n",
    "        6: [1000, 0],\n",
    "        7: [1000, 1000],\n",
    "        8: [1000, 2000],\n",
    "        9: [1000, 3000],\n",
    "        10: [1000, 4000],\n",
    "        11: [2000, 0],\n",
    "        12: [2000, 1000],\n",
    "        13: [2000, 2000],\n",
    "        14: [2000, 3000],\n",
    "        15: [2000, 4000],\n",
    "        16: [3000, 0],\n",
    "        17: [3000, 1000],\n",
    "        18: [3000, 2000],\n",
    "        19: [3000, 3000],\n",
    "        20: [3000, 4000],\n",
    "    },\n",
    "}"
   ]
  },
  {
   "cell_type": "code",
   "execution_count": 15,
   "id": "b42d9ad1-b294-47a7-8964-c71e70159556",
   "metadata": {
    "ExecuteTime": {
     "end_time": "2021-12-07T15:10:50.873269Z",
     "start_time": "2021-12-07T14:44:40.298841Z"
    },
    "tags": []
   },
   "outputs": [
    {
     "data": {
      "application/vnd.jupyter.widget-view+json": {
       "model_id": "d07e79af6304407bb6606ea99d970864",
       "version_major": 2,
       "version_minor": 0
      },
      "text/plain": [
       "  0%|          | 0/16 [00:00<?, ?it/s]"
      ]
     },
     "metadata": {},
     "output_type": "display_data"
    },
    {
     "data": {
      "application/vnd.jupyter.widget-view+json": {
       "model_id": "e21793ab0dbb44cf9e071f7ee087ad5c",
       "version_major": 2,
       "version_minor": 0
      },
      "text/plain": [
       "  0%|          | 0/15 [00:00<?, ?it/s]"
      ]
     },
     "metadata": {},
     "output_type": "display_data"
    },
    {
     "data": {
      "application/vnd.jupyter.widget-view+json": {
       "model_id": "04be04358d5d4befbca521fe72428b8e",
       "version_major": 2,
       "version_minor": 0
      },
      "text/plain": [
       "  0%|          | 0/20 [00:00<?, ?it/s]"
      ]
     },
     "metadata": {},
     "output_type": "display_data"
    },
    {
     "data": {
      "application/vnd.jupyter.widget-view+json": {
       "model_id": "d3487182db1e4b7ab619b00106fe9c43",
       "version_major": 2,
       "version_minor": 0
      },
      "text/plain": [
       "  0%|          | 0/16 [00:00<?, ?it/s]"
      ]
     },
     "metadata": {},
     "output_type": "display_data"
    },
    {
     "data": {
      "application/vnd.jupyter.widget-view+json": {
       "model_id": "b167174564e948c7aa1e982628f7da8a",
       "version_major": 2,
       "version_minor": 0
      },
      "text/plain": [
       "  0%|          | 0/14 [00:00<?, ?it/s]"
      ]
     },
     "metadata": {},
     "output_type": "display_data"
    },
    {
     "data": {
      "application/vnd.jupyter.widget-view+json": {
       "model_id": "a50437d7e80047b1985c208b1be2697d",
       "version_major": 2,
       "version_minor": 0
      },
      "text/plain": [
       "  0%|          | 0/18 [00:00<?, ?it/s]"
      ]
     },
     "metadata": {},
     "output_type": "display_data"
    }
   ],
   "source": [
    "for donor in donors:\n",
    "    h5_data = p_dir / \"data\" / \"h5_new\" / f\"{donor}.hdf5\"\n",
    "    df = pd.read_csv(data_dir / \"metadata\" / f\"info_{donor}.csv\")\n",
    "    ROIs = df.ROI.unique()\n",
    "    # masks = get_masks(data_dir / \"masks_cp\" / donor)\n",
    "    masks = get_masks(data_dir / \"masks\" / donor)\n",
    "    \n",
    "    for roi in tqdm(ROIs, total=len(ROIs)):\n",
    "        if roi not in arrangement[donor].keys():\n",
    "            continue\n",
    "        imgs, labels = get_imgs(h5_data, str(roi))\n",
    "        mask = masks[str(roi)]\n",
    "\n",
    "        imgs = get_img_subset(imgs, markers)\n",
    "\n",
    "        df_appended_list = []\n",
    "        for i, img in enumerate(imgs):\n",
    "            df_prop = read_intensity_per_cell(img, mask)\n",
    "            df_prop.columns = [\"Cell_label\", markers[i]]\n",
    "            df_appended_list.append(df_prop)\n",
    "\n",
    "        # Combine dataframe\n",
    "        df_cell_intensity = reduce(\n",
    "            lambda left, right: pd.merge(left, right, on=[\"Cell_label\"]),\n",
    "            df_appended_list,\n",
    "        )\n",
    "        df_cell_intensity[\"ROI\"] = roi\n",
    "        df_cell_intensity[\"Donor\"] = donor\n",
    "        df_all.append(df_cell_intensity)\n",
    "\n",
    "        props = skimage.measure.regionprops_table(\n",
    "            mask, properties=[\"label\", \"centroid\"]\n",
    "        )\n",
    "        rows = props[\"centroid-0\"] + arrangement[donor][roi][0]\n",
    "        cols = props[\"centroid-1\"] + arrangement[donor][roi][1]\n",
    "        centroid = np.array(list(zip(cols, rows)))\n",
    "        centroids.append(centroid)"
   ]
  },
  {
   "cell_type": "code",
   "execution_count": 16,
   "id": "220ff576-6b59-47ac-813f-5a0357fa5e26",
   "metadata": {
    "ExecuteTime": {
     "end_time": "2021-12-07T15:10:52.951570Z",
     "start_time": "2021-12-07T15:10:52.466727Z"
    }
   },
   "outputs": [],
   "source": [
    "centroids = np.concatenate(centroids)"
   ]
  },
  {
   "cell_type": "code",
   "execution_count": 17,
   "id": "383e8238-4dd9-4210-b228-3868bf8af2d2",
   "metadata": {
    "ExecuteTime": {
     "end_time": "2021-12-07T15:10:55.370880Z",
     "start_time": "2021-12-07T15:10:54.576076Z"
    }
   },
   "outputs": [
    {
     "data": {
      "text/html": [
       "<div>\n",
       "<style scoped>\n",
       "    .dataframe tbody tr th:only-of-type {\n",
       "        vertical-align: middle;\n",
       "    }\n",
       "\n",
       "    .dataframe tbody tr th {\n",
       "        vertical-align: top;\n",
       "    }\n",
       "\n",
       "    .dataframe thead th {\n",
       "        text-align: right;\n",
       "    }\n",
       "</style>\n",
       "<table border=\"1\" class=\"dataframe\">\n",
       "  <thead>\n",
       "    <tr style=\"text-align: right;\">\n",
       "      <th></th>\n",
       "      <th>Cell_label</th>\n",
       "      <th>CD38</th>\n",
       "      <th>Vimentin</th>\n",
       "      <th>CD21</th>\n",
       "      <th>BCL6</th>\n",
       "      <th>ICOS1</th>\n",
       "      <th>CD11b</th>\n",
       "      <th>CXCR4</th>\n",
       "      <th>CD11c</th>\n",
       "      <th>FoxP3</th>\n",
       "      <th>...</th>\n",
       "      <th>PD1</th>\n",
       "      <th>CD83</th>\n",
       "      <th>Ki67</th>\n",
       "      <th>COL1</th>\n",
       "      <th>CD3</th>\n",
       "      <th>CD27</th>\n",
       "      <th>EZH2</th>\n",
       "      <th>H3K27me3</th>\n",
       "      <th>ROI</th>\n",
       "      <th>Donor</th>\n",
       "    </tr>\n",
       "  </thead>\n",
       "  <tbody>\n",
       "    <tr>\n",
       "      <th>0</th>\n",
       "      <td>1</td>\n",
       "      <td>0.000000</td>\n",
       "      <td>17.400000</td>\n",
       "      <td>0.175000</td>\n",
       "      <td>0.0</td>\n",
       "      <td>0.00000</td>\n",
       "      <td>0.00000</td>\n",
       "      <td>0.0</td>\n",
       "      <td>1.025000</td>\n",
       "      <td>0.0</td>\n",
       "      <td>...</td>\n",
       "      <td>0.0</td>\n",
       "      <td>0.0</td>\n",
       "      <td>0.0</td>\n",
       "      <td>3.450000</td>\n",
       "      <td>0.000000</td>\n",
       "      <td>0.0</td>\n",
       "      <td>0.0</td>\n",
       "      <td>39.925000</td>\n",
       "      <td>1</td>\n",
       "      <td>LN Donor A</td>\n",
       "    </tr>\n",
       "    <tr>\n",
       "      <th>1</th>\n",
       "      <td>2</td>\n",
       "      <td>0.000000</td>\n",
       "      <td>25.460674</td>\n",
       "      <td>0.000000</td>\n",
       "      <td>0.0</td>\n",
       "      <td>0.00000</td>\n",
       "      <td>0.00000</td>\n",
       "      <td>0.0</td>\n",
       "      <td>0.898876</td>\n",
       "      <td>0.0</td>\n",
       "      <td>...</td>\n",
       "      <td>0.0</td>\n",
       "      <td>0.0</td>\n",
       "      <td>0.0</td>\n",
       "      <td>0.707865</td>\n",
       "      <td>0.000000</td>\n",
       "      <td>0.0</td>\n",
       "      <td>0.0</td>\n",
       "      <td>97.651685</td>\n",
       "      <td>1</td>\n",
       "      <td>LN Donor A</td>\n",
       "    </tr>\n",
       "    <tr>\n",
       "      <th>2</th>\n",
       "      <td>3</td>\n",
       "      <td>0.000000</td>\n",
       "      <td>6.357143</td>\n",
       "      <td>0.166667</td>\n",
       "      <td>0.0</td>\n",
       "      <td>0.47619</td>\n",
       "      <td>0.00000</td>\n",
       "      <td>0.0</td>\n",
       "      <td>0.976190</td>\n",
       "      <td>0.0</td>\n",
       "      <td>...</td>\n",
       "      <td>0.0</td>\n",
       "      <td>0.0</td>\n",
       "      <td>0.0</td>\n",
       "      <td>3.357143</td>\n",
       "      <td>0.000000</td>\n",
       "      <td>0.0</td>\n",
       "      <td>0.0</td>\n",
       "      <td>27.976190</td>\n",
       "      <td>1</td>\n",
       "      <td>LN Donor A</td>\n",
       "    </tr>\n",
       "    <tr>\n",
       "      <th>3</th>\n",
       "      <td>4</td>\n",
       "      <td>0.054545</td>\n",
       "      <td>25.454545</td>\n",
       "      <td>0.109091</td>\n",
       "      <td>0.0</td>\n",
       "      <td>0.00000</td>\n",
       "      <td>0.00000</td>\n",
       "      <td>0.0</td>\n",
       "      <td>1.436364</td>\n",
       "      <td>0.0</td>\n",
       "      <td>...</td>\n",
       "      <td>0.0</td>\n",
       "      <td>0.0</td>\n",
       "      <td>0.0</td>\n",
       "      <td>3.636364</td>\n",
       "      <td>0.000000</td>\n",
       "      <td>0.0</td>\n",
       "      <td>0.0</td>\n",
       "      <td>44.236364</td>\n",
       "      <td>1</td>\n",
       "      <td>LN Donor A</td>\n",
       "    </tr>\n",
       "    <tr>\n",
       "      <th>4</th>\n",
       "      <td>5</td>\n",
       "      <td>0.000000</td>\n",
       "      <td>35.765625</td>\n",
       "      <td>0.000000</td>\n",
       "      <td>0.0</td>\n",
       "      <td>0.09375</td>\n",
       "      <td>0.03125</td>\n",
       "      <td>0.0</td>\n",
       "      <td>1.156250</td>\n",
       "      <td>0.0</td>\n",
       "      <td>...</td>\n",
       "      <td>0.0</td>\n",
       "      <td>0.0</td>\n",
       "      <td>0.0</td>\n",
       "      <td>0.906250</td>\n",
       "      <td>2.171875</td>\n",
       "      <td>0.0</td>\n",
       "      <td>0.0</td>\n",
       "      <td>56.562500</td>\n",
       "      <td>1</td>\n",
       "      <td>LN Donor A</td>\n",
       "    </tr>\n",
       "  </tbody>\n",
       "</table>\n",
       "<p>5 rows × 26 columns</p>\n",
       "</div>"
      ],
      "text/plain": [
       "   Cell_label      CD38   Vimentin      CD21  BCL6    ICOS1    CD11b  CXCR4  \\\n",
       "0           1  0.000000  17.400000  0.175000   0.0  0.00000  0.00000    0.0   \n",
       "1           2  0.000000  25.460674  0.000000   0.0  0.00000  0.00000    0.0   \n",
       "2           3  0.000000   6.357143  0.166667   0.0  0.47619  0.00000    0.0   \n",
       "3           4  0.054545  25.454545  0.109091   0.0  0.00000  0.00000    0.0   \n",
       "4           5  0.000000  35.765625  0.000000   0.0  0.09375  0.03125    0.0   \n",
       "\n",
       "      CD11c  FoxP3  ...  PD1  CD83  Ki67      COL1       CD3  CD27  EZH2  \\\n",
       "0  1.025000    0.0  ...  0.0   0.0   0.0  3.450000  0.000000   0.0   0.0   \n",
       "1  0.898876    0.0  ...  0.0   0.0   0.0  0.707865  0.000000   0.0   0.0   \n",
       "2  0.976190    0.0  ...  0.0   0.0   0.0  3.357143  0.000000   0.0   0.0   \n",
       "3  1.436364    0.0  ...  0.0   0.0   0.0  3.636364  0.000000   0.0   0.0   \n",
       "4  1.156250    0.0  ...  0.0   0.0   0.0  0.906250  2.171875   0.0   0.0   \n",
       "\n",
       "    H3K27me3  ROI       Donor  \n",
       "0  39.925000    1  LN Donor A  \n",
       "1  97.651685    1  LN Donor A  \n",
       "2  27.976190    1  LN Donor A  \n",
       "3  44.236364    1  LN Donor A  \n",
       "4  56.562500    1  LN Donor A  \n",
       "\n",
       "[5 rows x 26 columns]"
      ]
     },
     "execution_count": 17,
     "metadata": {},
     "output_type": "execute_result"
    }
   ],
   "source": [
    "df = pd.concat(df_all, ignore_index=True)\n",
    "df.head()"
   ]
  },
  {
   "cell_type": "code",
   "execution_count": 18,
   "id": "fd6c3e0b-47e1-498e-914d-37a4d7f69813",
   "metadata": {
    "ExecuteTime": {
     "end_time": "2021-12-07T15:10:57.674673Z",
     "start_time": "2021-12-07T15:10:57.037450Z"
    }
   },
   "outputs": [],
   "source": [
    "df_intensity = df.iloc[:, 1:-2]"
   ]
  },
  {
   "cell_type": "code",
   "execution_count": 19,
   "id": "93da85a3-8ec8-4090-bb2e-53c226e7c7a7",
   "metadata": {
    "ExecuteTime": {
     "end_time": "2021-12-07T15:11:00.119884Z",
     "start_time": "2021-12-07T15:10:59.679859Z"
    }
   },
   "outputs": [
    {
     "data": {
      "text/html": [
       "<div>\n",
       "<style scoped>\n",
       "    .dataframe tbody tr th:only-of-type {\n",
       "        vertical-align: middle;\n",
       "    }\n",
       "\n",
       "    .dataframe tbody tr th {\n",
       "        vertical-align: top;\n",
       "    }\n",
       "\n",
       "    .dataframe thead th {\n",
       "        text-align: right;\n",
       "    }\n",
       "</style>\n",
       "<table border=\"1\" class=\"dataframe\">\n",
       "  <thead>\n",
       "    <tr style=\"text-align: right;\">\n",
       "      <th></th>\n",
       "      <th>CD38</th>\n",
       "      <th>Vimentin</th>\n",
       "      <th>CD21</th>\n",
       "      <th>BCL6</th>\n",
       "      <th>ICOS1</th>\n",
       "      <th>CD11b</th>\n",
       "      <th>CXCR4</th>\n",
       "      <th>CD11c</th>\n",
       "      <th>FoxP3</th>\n",
       "      <th>CD4</th>\n",
       "      <th>...</th>\n",
       "      <th>CD8</th>\n",
       "      <th>C-Myc</th>\n",
       "      <th>PD1</th>\n",
       "      <th>CD83</th>\n",
       "      <th>Ki67</th>\n",
       "      <th>COL1</th>\n",
       "      <th>CD3</th>\n",
       "      <th>CD27</th>\n",
       "      <th>EZH2</th>\n",
       "      <th>H3K27me3</th>\n",
       "    </tr>\n",
       "  </thead>\n",
       "  <tbody>\n",
       "    <tr>\n",
       "      <th>0</th>\n",
       "      <td>0.000000</td>\n",
       "      <td>17.400000</td>\n",
       "      <td>0.175000</td>\n",
       "      <td>0.0</td>\n",
       "      <td>0.00000</td>\n",
       "      <td>0.00000</td>\n",
       "      <td>0.0</td>\n",
       "      <td>1.025000</td>\n",
       "      <td>0.0</td>\n",
       "      <td>0.000000</td>\n",
       "      <td>...</td>\n",
       "      <td>0.300000</td>\n",
       "      <td>1.137500</td>\n",
       "      <td>0.0</td>\n",
       "      <td>0.0</td>\n",
       "      <td>0.0</td>\n",
       "      <td>3.450000</td>\n",
       "      <td>0.000000</td>\n",
       "      <td>0.0</td>\n",
       "      <td>0.0</td>\n",
       "      <td>39.925000</td>\n",
       "    </tr>\n",
       "    <tr>\n",
       "      <th>1</th>\n",
       "      <td>0.000000</td>\n",
       "      <td>25.460674</td>\n",
       "      <td>0.000000</td>\n",
       "      <td>0.0</td>\n",
       "      <td>0.00000</td>\n",
       "      <td>0.00000</td>\n",
       "      <td>0.0</td>\n",
       "      <td>0.898876</td>\n",
       "      <td>0.0</td>\n",
       "      <td>0.000000</td>\n",
       "      <td>...</td>\n",
       "      <td>0.000000</td>\n",
       "      <td>0.887640</td>\n",
       "      <td>0.0</td>\n",
       "      <td>0.0</td>\n",
       "      <td>0.0</td>\n",
       "      <td>0.707865</td>\n",
       "      <td>0.000000</td>\n",
       "      <td>0.0</td>\n",
       "      <td>0.0</td>\n",
       "      <td>97.651685</td>\n",
       "    </tr>\n",
       "    <tr>\n",
       "      <th>2</th>\n",
       "      <td>0.000000</td>\n",
       "      <td>6.357143</td>\n",
       "      <td>0.166667</td>\n",
       "      <td>0.0</td>\n",
       "      <td>0.47619</td>\n",
       "      <td>0.00000</td>\n",
       "      <td>0.0</td>\n",
       "      <td>0.976190</td>\n",
       "      <td>0.0</td>\n",
       "      <td>0.285714</td>\n",
       "      <td>...</td>\n",
       "      <td>0.000000</td>\n",
       "      <td>1.119048</td>\n",
       "      <td>0.0</td>\n",
       "      <td>0.0</td>\n",
       "      <td>0.0</td>\n",
       "      <td>3.357143</td>\n",
       "      <td>0.000000</td>\n",
       "      <td>0.0</td>\n",
       "      <td>0.0</td>\n",
       "      <td>27.976190</td>\n",
       "    </tr>\n",
       "    <tr>\n",
       "      <th>3</th>\n",
       "      <td>0.054545</td>\n",
       "      <td>25.454545</td>\n",
       "      <td>0.109091</td>\n",
       "      <td>0.0</td>\n",
       "      <td>0.00000</td>\n",
       "      <td>0.00000</td>\n",
       "      <td>0.0</td>\n",
       "      <td>1.436364</td>\n",
       "      <td>0.0</td>\n",
       "      <td>0.000000</td>\n",
       "      <td>...</td>\n",
       "      <td>0.000000</td>\n",
       "      <td>1.290909</td>\n",
       "      <td>0.0</td>\n",
       "      <td>0.0</td>\n",
       "      <td>0.0</td>\n",
       "      <td>3.636364</td>\n",
       "      <td>0.000000</td>\n",
       "      <td>0.0</td>\n",
       "      <td>0.0</td>\n",
       "      <td>44.236364</td>\n",
       "    </tr>\n",
       "    <tr>\n",
       "      <th>4</th>\n",
       "      <td>0.000000</td>\n",
       "      <td>35.765625</td>\n",
       "      <td>0.000000</td>\n",
       "      <td>0.0</td>\n",
       "      <td>0.09375</td>\n",
       "      <td>0.03125</td>\n",
       "      <td>0.0</td>\n",
       "      <td>1.156250</td>\n",
       "      <td>0.0</td>\n",
       "      <td>1.828125</td>\n",
       "      <td>...</td>\n",
       "      <td>0.046875</td>\n",
       "      <td>2.218750</td>\n",
       "      <td>0.0</td>\n",
       "      <td>0.0</td>\n",
       "      <td>0.0</td>\n",
       "      <td>0.906250</td>\n",
       "      <td>2.171875</td>\n",
       "      <td>0.0</td>\n",
       "      <td>0.0</td>\n",
       "      <td>56.562500</td>\n",
       "    </tr>\n",
       "  </tbody>\n",
       "</table>\n",
       "<p>5 rows × 23 columns</p>\n",
       "</div>"
      ],
      "text/plain": [
       "       CD38   Vimentin      CD21  BCL6    ICOS1    CD11b  CXCR4     CD11c  \\\n",
       "0  0.000000  17.400000  0.175000   0.0  0.00000  0.00000    0.0  1.025000   \n",
       "1  0.000000  25.460674  0.000000   0.0  0.00000  0.00000    0.0  0.898876   \n",
       "2  0.000000   6.357143  0.166667   0.0  0.47619  0.00000    0.0  0.976190   \n",
       "3  0.054545  25.454545  0.109091   0.0  0.00000  0.00000    0.0  1.436364   \n",
       "4  0.000000  35.765625  0.000000   0.0  0.09375  0.03125    0.0  1.156250   \n",
       "\n",
       "   FoxP3       CD4  ...       CD8     C-Myc  PD1  CD83  Ki67      COL1  \\\n",
       "0    0.0  0.000000  ...  0.300000  1.137500  0.0   0.0   0.0  3.450000   \n",
       "1    0.0  0.000000  ...  0.000000  0.887640  0.0   0.0   0.0  0.707865   \n",
       "2    0.0  0.285714  ...  0.000000  1.119048  0.0   0.0   0.0  3.357143   \n",
       "3    0.0  0.000000  ...  0.000000  1.290909  0.0   0.0   0.0  3.636364   \n",
       "4    0.0  1.828125  ...  0.046875  2.218750  0.0   0.0   0.0  0.906250   \n",
       "\n",
       "        CD3  CD27  EZH2   H3K27me3  \n",
       "0  0.000000   0.0   0.0  39.925000  \n",
       "1  0.000000   0.0   0.0  97.651685  \n",
       "2  0.000000   0.0   0.0  27.976190  \n",
       "3  0.000000   0.0   0.0  44.236364  \n",
       "4  2.171875   0.0   0.0  56.562500  \n",
       "\n",
       "[5 rows x 23 columns]"
      ]
     },
     "execution_count": 19,
     "metadata": {},
     "output_type": "execute_result"
    }
   ],
   "source": [
    "df_intensity.head()"
   ]
  },
  {
   "cell_type": "code",
   "execution_count": 20,
   "id": "a9731aca-5e8e-4b8a-8628-312724308840",
   "metadata": {},
   "outputs": [
    {
     "name": "stderr",
     "output_type": "stream",
     "text": [
      "C:\\Users\\thu71\\AppData\\Local\\Temp\\ipykernel_26184\\58115827.py:2: FutureWarning: X.dtype being converted to np.float32 from float64. In the next version of anndata (0.9) conversion will not be automatic. Pass dtype explicitly to avoid this warning. Pass `AnnData(X, dtype=X.dtype, ...)` to get the future behavour.\n",
      "  adata = sc.AnnData(df_intensity.values)\n"
     ]
    }
   ],
   "source": [
    "# Create annData from dataframe\n",
    "adata = sc.AnnData(df_intensity.values)\n",
    "adata.var_names = df_intensity.columns.tolist()  # add variable name\n",
    "\n",
    "# Add obs information\n",
    "adata.obs[\"ROI\"] = df.ROI.tolist()\n",
    "adata.obs[\"Cell\"] = df.Cell_label.tolist()\n",
    "adata.obs[\"Dataset\"] = df.Donor.tolist()\n",
    "adata.obsm[\"spatial\"] = centroids"
   ]
  },
  {
   "cell_type": "code",
   "execution_count": 21,
   "id": "63d6c2e3-e8dd-4c1f-8896-700231ca5c4b",
   "metadata": {},
   "outputs": [],
   "source": [
    "adata_path = data_dir / \"metadata\" / f\"combined_raw_12_12_new_mask.h5ad\"\n",
    "adata.write(adata_path)"
   ]
  },
  {
   "cell_type": "code",
   "execution_count": 22,
   "id": "20feec44-86c0-499b-bd58-75f4155d01c6",
   "metadata": {},
   "outputs": [],
   "source": [
    "df.to_csv(data_dir / \"metadata\" / f\"combined_raw_12_12_new_mask.csv\")"
   ]
  },
  {
   "cell_type": "markdown",
   "id": "489b505c-e304-4e4b-9160-8bc3346fd141",
   "metadata": {
    "tags": []
   },
   "source": [
    "# Convert to FCS files"
   ]
  },
  {
   "cell_type": "code",
   "execution_count": 23,
   "id": "1b88d091-747f-4a35-8435-f9a4b893381e",
   "metadata": {},
   "outputs": [],
   "source": [
    "import flowkit as fk\n",
    "from sklearn import preprocessing\n",
    "from sklearn.preprocessing import MinMaxScaler"
   ]
  },
  {
   "cell_type": "code",
   "execution_count": 24,
   "id": "4b0ee3c4-25a1-42ae-9ef0-bea7a1e6ff3d",
   "metadata": {},
   "outputs": [],
   "source": [
    "df = pd.read_csv(data_dir / \"metadata\" / f\"combined_raw_12_12_new_mask.csv\", )\n",
    "df = df.iloc[:,1:]\n",
    "\n",
    "adata_path = data_dir / \"metadata\" / f\"combined_raw_12_12_new_mask.h5ad\"\n",
    "adata = sc.read_h5ad(adata_path)\n",
    "centroids = adata.obsm[\"spatial\"]\n"
   ]
  },
  {
   "cell_type": "code",
   "execution_count": 25,
   "id": "e6172ace-7c80-49ed-bcb4-42acce7f47bf",
   "metadata": {},
   "outputs": [],
   "source": [
    "import palettable\n",
    "heatmap_cmp = palettable.cmocean.diverging.Balance_20.mpl_colormap"
   ]
  },
  {
   "cell_type": "code",
   "execution_count": 26,
   "id": "92958013-cc3b-47af-95ab-4c651e011e48",
   "metadata": {},
   "outputs": [
    {
     "name": "stderr",
     "output_type": "stream",
     "text": [
      "C:\\Users\\thu71\\AppData\\Local\\Temp\\ipykernel_26184\\4154266611.py:21: FutureWarning: Slicing a positional slice with .loc is not supported, and will raise TypeError in a future version.  Use .loc with labels or .iloc with positions instead.\n",
      "  df_2labels.loc[:, 2:-2] = data_scaled\n"
     ]
    }
   ],
   "source": [
    "# Scale data\n",
    "scaler = MinMaxScaler()\n",
    "\n",
    "# Reset to get all samples index\n",
    "df_2labels = df.reset_index()\n",
    "\n",
    "# # Normalize per Tissue\n",
    "# for donor in df_2labels['Donor'].unique():\n",
    "#     df_subset = df_2labels[df_2labels.Donor == donor]\n",
    "#     data = df_subset.iloc[:, 2:-2]\n",
    "#     data_scaled = scaler.fit_transform(data)*(2**18)\n",
    "#     # data_scaled = np.log(data_scaled+1)\n",
    "#     # data_scaled = np.arcsinh(data_scaled)\n",
    "#     df_2labels.loc[df_2labels.Donor == donor, 2:-2] = data_scaled\n",
    "\n",
    "# Normalize all togther\n",
    "data = df_2labels.iloc[:, 2:-2]\n",
    "data_scaled = scaler.fit_transform(data)*(2**18)\n",
    "# data_scaled = np.log(data_scaled+1)\n",
    "# data_scaled = np.arcsinh(data_scaled)\n",
    "df_2labels.loc[:, 2:-2] = data_scaled\n",
    "\n",
    "\n",
    "# Add spatial info\n",
    "df_2labels['X'] = centroids[:,1]\n",
    "df_2labels['Y'] = centroids[:,0]\n"
   ]
  },
  {
   "cell_type": "code",
   "execution_count": 27,
   "id": "53b570ef-112b-47bc-b293-75b3c685a508",
   "metadata": {
    "tags": []
   },
   "outputs": [
    {
     "name": "stderr",
     "output_type": "stream",
     "text": [
      "C:\\Users\\thu71\\AppData\\Local\\Temp\\ipykernel_26184\\2099152042.py:3: SettingWithCopyWarning: \n",
      "A value is trying to be set on a copy of a slice from a DataFrame\n",
      "\n",
      "See the caveats in the documentation: https://pandas.pydata.org/pandas-docs/stable/user_guide/indexing.html#returning-a-view-versus-a-copy\n",
      "  df_subset.drop('Donor', inplace=True, axis=1)\n",
      "C:\\Users\\thu71\\Anaconda3\\envs\\scspamet\\lib\\site-packages\\numpy\\core\\fromnumeric.py:84: FutureWarning: In a future version, DataFrame.max(axis=None) will return a scalar max over the entire DataFrame. To retain the old behavior, use 'frame.max(axis=0)' or just 'frame.max()'\n",
      "  return reduction(axis=axis, out=out, **passkwargs)\n",
      "C:\\Users\\thu71\\AppData\\Local\\Temp\\ipykernel_26184\\2099152042.py:3: SettingWithCopyWarning: \n",
      "A value is trying to be set on a copy of a slice from a DataFrame\n",
      "\n",
      "See the caveats in the documentation: https://pandas.pydata.org/pandas-docs/stable/user_guide/indexing.html#returning-a-view-versus-a-copy\n",
      "  df_subset.drop('Donor', inplace=True, axis=1)\n",
      "C:\\Users\\thu71\\Anaconda3\\envs\\scspamet\\lib\\site-packages\\numpy\\core\\fromnumeric.py:84: FutureWarning: In a future version, DataFrame.max(axis=None) will return a scalar max over the entire DataFrame. To retain the old behavior, use 'frame.max(axis=0)' or just 'frame.max()'\n",
      "  return reduction(axis=axis, out=out, **passkwargs)\n",
      "C:\\Users\\thu71\\AppData\\Local\\Temp\\ipykernel_26184\\2099152042.py:3: SettingWithCopyWarning: \n",
      "A value is trying to be set on a copy of a slice from a DataFrame\n",
      "\n",
      "See the caveats in the documentation: https://pandas.pydata.org/pandas-docs/stable/user_guide/indexing.html#returning-a-view-versus-a-copy\n",
      "  df_subset.drop('Donor', inplace=True, axis=1)\n",
      "C:\\Users\\thu71\\Anaconda3\\envs\\scspamet\\lib\\site-packages\\numpy\\core\\fromnumeric.py:84: FutureWarning: In a future version, DataFrame.max(axis=None) will return a scalar max over the entire DataFrame. To retain the old behavior, use 'frame.max(axis=0)' or just 'frame.max()'\n",
      "  return reduction(axis=axis, out=out, **passkwargs)\n",
      "C:\\Users\\thu71\\AppData\\Local\\Temp\\ipykernel_26184\\2099152042.py:3: SettingWithCopyWarning: \n",
      "A value is trying to be set on a copy of a slice from a DataFrame\n",
      "\n",
      "See the caveats in the documentation: https://pandas.pydata.org/pandas-docs/stable/user_guide/indexing.html#returning-a-view-versus-a-copy\n",
      "  df_subset.drop('Donor', inplace=True, axis=1)\n",
      "C:\\Users\\thu71\\Anaconda3\\envs\\scspamet\\lib\\site-packages\\numpy\\core\\fromnumeric.py:84: FutureWarning: In a future version, DataFrame.max(axis=None) will return a scalar max over the entire DataFrame. To retain the old behavior, use 'frame.max(axis=0)' or just 'frame.max()'\n",
      "  return reduction(axis=axis, out=out, **passkwargs)\n",
      "C:\\Users\\thu71\\AppData\\Local\\Temp\\ipykernel_26184\\2099152042.py:3: SettingWithCopyWarning: \n",
      "A value is trying to be set on a copy of a slice from a DataFrame\n",
      "\n",
      "See the caveats in the documentation: https://pandas.pydata.org/pandas-docs/stable/user_guide/indexing.html#returning-a-view-versus-a-copy\n",
      "  df_subset.drop('Donor', inplace=True, axis=1)\n",
      "C:\\Users\\thu71\\Anaconda3\\envs\\scspamet\\lib\\site-packages\\numpy\\core\\fromnumeric.py:84: FutureWarning: In a future version, DataFrame.max(axis=None) will return a scalar max over the entire DataFrame. To retain the old behavior, use 'frame.max(axis=0)' or just 'frame.max()'\n",
      "  return reduction(axis=axis, out=out, **passkwargs)\n",
      "C:\\Users\\thu71\\AppData\\Local\\Temp\\ipykernel_26184\\2099152042.py:3: SettingWithCopyWarning: \n",
      "A value is trying to be set on a copy of a slice from a DataFrame\n",
      "\n",
      "See the caveats in the documentation: https://pandas.pydata.org/pandas-docs/stable/user_guide/indexing.html#returning-a-view-versus-a-copy\n",
      "  df_subset.drop('Donor', inplace=True, axis=1)\n",
      "C:\\Users\\thu71\\Anaconda3\\envs\\scspamet\\lib\\site-packages\\numpy\\core\\fromnumeric.py:84: FutureWarning: In a future version, DataFrame.max(axis=None) will return a scalar max over the entire DataFrame. To retain the old behavior, use 'frame.max(axis=0)' or just 'frame.max()'\n",
      "  return reduction(axis=axis, out=out, **passkwargs)\n"
     ]
    }
   ],
   "source": [
    "for donor in df_2labels['Donor'].unique():\n",
    "    df_subset = df_2labels[df_2labels.Donor == donor]\n",
    "    df_subset.drop('Donor', inplace=True, axis=1)\n",
    "    sample = fk.Sample(df_subset, cache_original_events=True)\n",
    "    sample.original_filename = donor\n",
    "    \n",
    "    df_channels = sample.channels\n",
    "    df_channels.pnr = np.max(df_subset).tolist()\n",
    "    sample.channels = df_channels\n",
    "    \n",
    "    sample.export(f'{donor}.fcs', source='orig')"
   ]
  },
  {
   "cell_type": "code",
   "execution_count": 28,
   "id": "5be9be30-deaa-4dd3-9dbb-36ae8232244e",
   "metadata": {},
   "outputs": [
    {
     "name": "stderr",
     "output_type": "stream",
     "text": [
      "C:\\Users\\thu71\\Anaconda3\\envs\\scspamet\\lib\\site-packages\\numpy\\core\\fromnumeric.py:84: FutureWarning: In a future version, DataFrame.max(axis=None) will return a scalar max over the entire DataFrame. To retain the old behavior, use 'frame.max(axis=0)' or just 'frame.max()'\n",
      "  return reduction(axis=axis, out=out, **passkwargs)\n"
     ]
    }
   ],
   "source": [
    "le = preprocessing.LabelEncoder()\n",
    "df_2labels['Donor'] = le.fit_transform(df_2labels['Donor'])\n",
    "\n",
    "sample = fk.Sample(df_2labels, cache_original_events=True)\n",
    "\n",
    "df_channels = sample.channels\n",
    "df_channels.pnr = np.max(df_2labels).tolist()\n",
    "sample.channels = df_channels"
   ]
  },
  {
   "cell_type": "code",
   "execution_count": 29,
   "id": "bd495ca3-3871-4250-9855-c9f06ff4153f",
   "metadata": {},
   "outputs": [],
   "source": [
    "sample.export('lymphoid.fcs', source='orig')"
   ]
  },
  {
   "cell_type": "code",
   "execution_count": null,
   "id": "33896532-8cd4-4f88-a9a3-d1ef68731d56",
   "metadata": {},
   "outputs": [],
   "source": []
  }
 ],
 "metadata": {
  "kernelspec": {
   "display_name": "Python [conda env:scspamet]",
   "language": "python",
   "name": "conda-env-scspamet-py"
  },
  "language_info": {
   "codemirror_mode": {
    "name": "ipython",
    "version": 3
   },
   "file_extension": ".py",
   "mimetype": "text/x-python",
   "name": "python",
   "nbconvert_exporter": "python",
   "pygments_lexer": "ipython3",
   "version": "3.10.6"
  }
 },
 "nbformat": 4,
 "nbformat_minor": 5
}
