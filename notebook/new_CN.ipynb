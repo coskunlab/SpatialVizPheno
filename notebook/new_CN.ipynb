{
 "cells": [
  {
   "cell_type": "code",
   "execution_count": 1,
   "id": "5c8a06ed-32b9-449a-b305-aaa2587ef6f0",
   "metadata": {},
   "outputs": [],
   "source": [
    "import os\n",
    "import re\n",
    "import sys\n",
    "from pathlib import Path\n",
    "\n",
    "import h5py\n",
    "import matplotlib.pyplot as plt\n",
    "import numpy as np\n",
    "import pandas as pd\n",
    "import scanpy as sc\n",
    "import skimage\n",
    "from joblib import Parallel, delayed\n",
    "from skimage import exposure, io\n",
    "from tqdm.notebook import tqdm, trange\n",
    "\n",
    "sc.settings.verbosity = 3\n",
    "\n",
    "from functools import reduce\n",
    "\n",
    "import anndata as ad\n",
    "import scanorama\n",
    "import seaborn as sns\n",
    "from matplotlib import cm, colors\n",
    "from matplotlib.pyplot import rc_context\n",
    "from sklearn.preprocessing import MinMaxScaler, StandardScaler\n",
    "import warnings\n",
    "warnings.simplefilter(action='ignore', category=FutureWarning)"
   ]
  },
  {
   "cell_type": "code",
   "execution_count": 2,
   "id": "63b6ee6d-7c7b-4a39-9816-06bdb24cde9d",
   "metadata": {},
   "outputs": [],
   "source": [
    "import multiprocessing\n",
    "\n",
    "n_cpu = multiprocessing.cpu_count()"
   ]
  },
  {
   "cell_type": "code",
   "execution_count": 3,
   "id": "2655f6c1-44eb-4424-b1d2-0cee4e78a439",
   "metadata": {},
   "outputs": [],
   "source": [
    "p_dir = (Path().cwd().parents[0]).absolute()\n",
    "data_dir = p_dir / \"data\""
   ]
  },
  {
   "cell_type": "code",
   "execution_count": 4,
   "id": "18ab37ca-ab7c-4269-b4a2-9d3900b8e1f6",
   "metadata": {},
   "outputs": [],
   "source": [
    "%load_ext autoreload\n",
    "%autoreload 2\n",
    "\n",
    "module_path = str(p_dir / \"src\")\n",
    "\n",
    "if module_path not in sys.path:\n",
    "    sys.path.append(module_path)\n"
   ]
  },
  {
   "cell_type": "code",
   "execution_count": 5,
   "id": "9b7b4432-9ae0-48c6-bf76-d520fb733291",
   "metadata": {},
   "outputs": [],
   "source": [
    "donors = [\n",
    "    \"LN Donor A\",\n",
    "    \"LN Donor E\",\n",
    "    \"INT Donor B\",\n",
    "    \"INT Donor E\",\n",
    "    \"TS Donor A\",\n",
    "    \"TS Donor E\",\n",
    "    \"SP Donor A\"\n",
    "]\n"
   ]
  },
  {
   "cell_type": "code",
   "execution_count": 6,
   "id": "69efdb89-4181-4b5d-aaab-a710bcaafecd",
   "metadata": {},
   "outputs": [],
   "source": [
    "adata_path = data_dir / \"metadata\" / f\"combined_10_07.h5ad\"\n",
    "adata = sc.read_h5ad(adata_path)"
   ]
  },
  {
   "cell_type": "markdown",
   "id": "23f5d3f5-574a-4620-b1ec-03b4a936bf89",
   "metadata": {
    "tags": []
   },
   "source": [
    "# Cell neighborhood"
   ]
  },
  {
   "cell_type": "markdown",
   "id": "67db7a49-7fc2-44ae-ab6e-108380e7a974",
   "metadata": {
    "tags": []
   },
   "source": [
    "## Create Neighbor graph"
   ]
  },
  {
   "cell_type": "code",
   "execution_count": 7,
   "id": "684e8e84-2b41-4539-bd43-88c5410252d0",
   "metadata": {},
   "outputs": [],
   "source": [
    "from sklearn.neighbors import NearestNeighbors\n",
    "from sklearn.neighbors import BallTree\n",
    "\n",
    "def get_NN(adata, n):\n",
    "    data = adata.obsm[\"spatial\"]\n",
    "    fit = NearestNeighbors(n_neighbors=n+1).fit(data)\n",
    "    m = fit.kneighbors(data)\n",
    "    # m = m[0], m[1] # Distances, Indices\n",
    "    m = m[0][:, 1:], m[1][:, 1:]\n",
    "    \n",
    "    # sort_neighbors\n",
    "    args = m[0].argsort(axis=1)\n",
    "    add = (\n",
    "        np.arange(m[1].shape[0]) * m[1].shape[1]\n",
    "    )  # arange for number of elements with step of number of neighbors\n",
    "    sorted_indices = m[1].flatten()[\n",
    "        args + add[:, None]\n",
    "    ]  # Extract indices in sorted order\n",
    "    return sorted_indices\n",
    "\n",
    "def get_NN_radius(adata, r):\n",
    "    data = adata.obsm[\"spatial\"]\n",
    "    fit = NearestNeighbors(radius=r).fit(data)\n",
    "    m = fit.radius_neighbors(data, return_distance=False)\n",
    "    \n",
    "    # Put in dataframe format\n",
    "    neighbours = pd.DataFrame(m.tolist(), index = adata.obs.index)\n",
    "    return neighbours\n",
    "\n",
    "def neighbor_frequency(adata, n=10, radius=25, var='clusters', radius_type='radius'):\n",
    "    dummies = pd.get_dummies(adata.obs[var])\n",
    "    values = dummies.values\n",
    "    \n",
    "    if radius_type == 'radius':\n",
    "        phenomap = dict(zip(list(range(len(adata))), adata.obs[var].tolist()))\n",
    "        neighbours=get_NN_radius(adata, radius)\n",
    "        for i in neighbours.columns:\n",
    "            neighbours[i] = neighbours[i].dropna().map(phenomap, na_action='ignore')\n",
    "        neighbours = neighbours.dropna(how='all')\n",
    "        window = neighbours.stack().str.get_dummies().sum(level=0)\n",
    "        window = window.div(window.sum(axis=1), axis=0)\n",
    "    else:\n",
    "        cols = get_NN(adata, n)\n",
    "        window = values[cols].flatten()\n",
    "        window = window.reshape(-1, n, dummies.shape[1])\n",
    "        window = window.sum(axis=1) / n\n",
    "        window = pd.DataFrame(window, columns=dummies.columns.tolist())\n",
    "    assert len(window) == len(adata.X)\n",
    "    return window"
   ]
  },
  {
   "cell_type": "code",
   "execution_count": 8,
   "id": "69e6ae81-6151-432d-9f22-802dfaf7527a",
   "metadata": {},
   "outputs": [
    {
     "name": "stdout",
     "output_type": "stream",
     "text": [
      "LN Donor A\n",
      "LN Donor E\n",
      "INT Donor B\n",
      "INT Donor E\n",
      "TS Donor A\n",
      "TS Donor E\n",
      "SP Donor A\n"
     ]
    }
   ],
   "source": [
    "n_neighbors = 20\n",
    "r = 25\n",
    "windows = []\n",
    "var='merged'\n",
    "# var = 'clusters'\n",
    "\n",
    "# Loop to get window size \n",
    "for d in donors:\n",
    "    print(d)\n",
    "    adata_subset = adata[adata.obs.Dataset == d, :]\n",
    "    \n",
    "    # sq.gr.spatial_neighbors(adata_subset, n_neighs=n_neighbors)\n",
    "    window = neighbor_frequency(adata_subset, n=n_neighbors, var=var, radius=r,)\n",
    "    assert len(window) == len(adata_subset.X)\n",
    "\n",
    "    windows.append(window)"
   ]
  },
  {
   "cell_type": "code",
   "execution_count": 9,
   "id": "acd103a9-14df-45ff-a2b6-5dd99ce51fa2",
   "metadata": {},
   "outputs": [
    {
     "data": {
      "text/plain": [
       "(1955450, 15)"
      ]
     },
     "execution_count": 9,
     "metadata": {},
     "output_type": "execute_result"
    }
   ],
   "source": [
    "window = pd.concat(windows)\n",
    "window = window.fillna(0)\n",
    "window.shape"
   ]
  },
  {
   "cell_type": "code",
   "execution_count": 10,
   "id": "f13925c4-40f8-4ba6-9c49-b7b25a4adf15",
   "metadata": {},
   "outputs": [
    {
     "data": {
      "text/plain": [
       "False"
      ]
     },
     "execution_count": 10,
     "metadata": {},
     "output_type": "execute_result"
    }
   ],
   "source": [
    "window.isna().values.any()"
   ]
  },
  {
   "cell_type": "code",
   "execution_count": 11,
   "id": "d027a570-f42f-464b-95ed-9da42d0474ba",
   "metadata": {},
   "outputs": [
    {
     "data": {
      "text/plain": [
       "AnnData object with n_obs × n_vars = 1955450 × 23\n",
       "    obs: 'ROI', 'Cell', 'Dataset', 'leiden', 'merged'\n",
       "    uns: 'Dataset_colors', 'dendrogram_leiden', 'dendrogram_merged', 'leiden', 'merged_colors', 'neighbors'\n",
       "    obsm: 'X_scanorama', 'X_tsne', 'X_umap', 'spatial'\n",
       "    obsp: 'connectivities', 'distances'"
      ]
     },
     "execution_count": 11,
     "metadata": {},
     "output_type": "execute_result"
    }
   ],
   "source": [
    "adata"
   ]
  },
  {
   "cell_type": "markdown",
   "id": "9aa53d6c-7bbc-4491-b3b9-5d4bcfbd4af2",
   "metadata": {
    "tags": []
   },
   "source": [
    "## CN clustering"
   ]
  },
  {
   "cell_type": "code",
   "execution_count": 12,
   "id": "e59ab6db-a109-4f56-ae2c-a4bc94b135ea",
   "metadata": {},
   "outputs": [],
   "source": [
    "from sklearn.cluster import MiniBatchKMeans\n",
    "from kneed import KneeLocator\n",
    "from matplotlib.ticker import MaxNLocator"
   ]
  },
  {
   "cell_type": "code",
   "execution_count": 13,
   "id": "e4a8054e-80bd-4997-ba9f-0eed268ad335",
   "metadata": {},
   "outputs": [],
   "source": [
    "adata_CN = ad.AnnData(window)\n",
    "adata_CN.raw = adata.copy()\n",
    "adata_CN.obs = adata.obs.copy()\n",
    "adata_CN.uns = adata.uns.copy()\n",
    "adata_CN.obsm = adata.obsm.copy()\n",
    "adata_CN.obsp = adata.obsp.copy() \n",
    "adata_CN.var_names = window.columns.tolist()"
   ]
  },
  {
   "cell_type": "code",
   "execution_count": 14,
   "id": "1d55088c-363b-43f9-8dbd-55973c66c3fe",
   "metadata": {},
   "outputs": [
    {
     "name": "stdout",
     "output_type": "stream",
     "text": [
      "computing PCA\n",
      "    with n_comps=12\n",
      "    finished (0:00:00)\n"
     ]
    }
   ],
   "source": [
    "sc.tl.pca(adata_CN, n_comps=12)"
   ]
  },
  {
   "cell_type": "code",
   "execution_count": 15,
   "id": "d8be1b0c-b60f-4c24-90b4-0badac14cc9c",
   "metadata": {},
   "outputs": [
    {
     "data": {
      "image/png": "[encoded data removed]",
      "text/plain": [
       "<Figure size 460.8x345.6 with 1 Axes>"
      ]
     },
     "metadata": {
      "needs_background": "light"
     },
     "output_type": "display_data"
    }
   ],
   "source": [
    "sc.pl.pca_variance_ratio(adata_CN, log=True)\n"
   ]
  },
  {
   "cell_type": "code",
   "execution_count": 17,
   "id": "f4670a3a-de48-4490-b970-72e69b0b7c52",
   "metadata": {},
   "outputs": [
    {
     "name": "stderr",
     "output_type": "stream",
     "text": [
      "C:\\Users\\thu71\\.conda\\envs\\scanpy\\lib\\site-packages\\sklearn\\cluster\\_kmeans.py:1836: UserWarning: MiniBatchKMeans is known to have a memory leak on Windows with MKL, when there are less chunks than available threads. You can prevent it by setting batch_size >= 12288 or by setting the environment variable OMP_NUM_THREADS=4\n",
      "  warnings.warn(\n",
      "C:\\Users\\thu71\\.conda\\envs\\scanpy\\lib\\site-packages\\sklearn\\cluster\\_kmeans.py:1836: UserWarning: MiniBatchKMeans is known to have a memory leak on Windows with MKL, when there are less chunks than available threads. You can prevent it by setting batch_size >= 12288 or by setting the environment variable OMP_NUM_THREADS=4\n",
      "  warnings.warn(\n",
      "C:\\Users\\thu71\\.conda\\envs\\scanpy\\lib\\site-packages\\sklearn\\cluster\\_kmeans.py:1836: UserWarning: MiniBatchKMeans is known to have a memory leak on Windows with MKL, when there are less chunks than available threads. You can prevent it by setting batch_size >= 12288 or by setting the environment variable OMP_NUM_THREADS=4\n",
      "  warnings.warn(\n",
      "C:\\Users\\thu71\\.conda\\envs\\scanpy\\lib\\site-packages\\sklearn\\cluster\\_kmeans.py:1836: UserWarning: MiniBatchKMeans is known to have a memory leak on Windows with MKL, when there are less chunks than available threads. You can prevent it by setting batch_size >= 12288 or by setting the environment variable OMP_NUM_THREADS=4\n",
      "  warnings.warn(\n",
      "C:\\Users\\thu71\\.conda\\envs\\scanpy\\lib\\site-packages\\sklearn\\cluster\\_kmeans.py:1836: UserWarning: MiniBatchKMeans is known to have a memory leak on Windows with MKL, when there are less chunks than available threads. You can prevent it by setting batch_size >= 12288 or by setting the environment variable OMP_NUM_THREADS=4\n",
      "  warnings.warn(\n",
      "C:\\Users\\thu71\\.conda\\envs\\scanpy\\lib\\site-packages\\sklearn\\cluster\\_kmeans.py:1836: UserWarning: MiniBatchKMeans is known to have a memory leak on Windows with MKL, when there are less chunks than available threads. You can prevent it by setting batch_size >= 12288 or by setting the environment variable OMP_NUM_THREADS=4\n",
      "  warnings.warn(\n",
      "C:\\Users\\thu71\\.conda\\envs\\scanpy\\lib\\site-packages\\sklearn\\cluster\\_kmeans.py:1836: UserWarning: MiniBatchKMeans is known to have a memory leak on Windows with MKL, when there are less chunks than available threads. You can prevent it by setting batch_size >= 12288 or by setting the environment variable OMP_NUM_THREADS=4\n",
      "  warnings.warn(\n",
      "C:\\Users\\thu71\\.conda\\envs\\scanpy\\lib\\site-packages\\sklearn\\cluster\\_kmeans.py:1836: UserWarning: MiniBatchKMeans is known to have a memory leak on Windows with MKL, when there are less chunks than available threads. You can prevent it by setting batch_size >= 12288 or by setting the environment variable OMP_NUM_THREADS=4\n",
      "  warnings.warn(\n",
      "C:\\Users\\thu71\\.conda\\envs\\scanpy\\lib\\site-packages\\sklearn\\cluster\\_kmeans.py:1836: UserWarning: MiniBatchKMeans is known to have a memory leak on Windows with MKL, when there are less chunks than available threads. You can prevent it by setting batch_size >= 12288 or by setting the environment variable OMP_NUM_THREADS=4\n",
      "  warnings.warn(\n",
      "C:\\Users\\thu71\\.conda\\envs\\scanpy\\lib\\site-packages\\sklearn\\cluster\\_kmeans.py:1836: UserWarning: MiniBatchKMeans is known to have a memory leak on Windows with MKL, when there are less chunks than available threads. You can prevent it by setting batch_size >= 12288 or by setting the environment variable OMP_NUM_THREADS=4\n",
      "  warnings.warn(\n",
      "C:\\Users\\thu71\\.conda\\envs\\scanpy\\lib\\site-packages\\sklearn\\cluster\\_kmeans.py:1836: UserWarning: MiniBatchKMeans is known to have a memory leak on Windows with MKL, when there are less chunks than available threads. You can prevent it by setting batch_size >= 12288 or by setting the environment variable OMP_NUM_THREADS=4\n",
      "  warnings.warn(\n",
      "C:\\Users\\thu71\\.conda\\envs\\scanpy\\lib\\site-packages\\sklearn\\cluster\\_kmeans.py:1836: UserWarning: MiniBatchKMeans is known to have a memory leak on Windows with MKL, when there are less chunks than available threads. You can prevent it by setting batch_size >= 12288 or by setting the environment variable OMP_NUM_THREADS=4\n",
      "  warnings.warn(\n",
      "No artists with labels found to put in legend.  Note that artists whose label start with an underscore are ignored when legend() is called with no argument.\n"
     ]
    },
    {
     "name": "stdout",
     "output_type": "stream",
     "text": [
      "The suggested number of clusters =  14\n"
     ]
    },
    {
     "name": "stderr",
     "output_type": "stream",
     "text": [
      "C:\\Users\\thu71\\AppData\\Local\\Temp\\ipykernel_118300\\1794930563.py:30: DeprecationWarning: `np.str` is a deprecated alias for the builtin `str`. To silence this warning, use `str` by itself. Doing this will not modify any behavior and is safe. If you specifically wanted the numpy scalar type, use `np.str_` here.\n",
      "Deprecated in NumPy 1.20; for more details and guidance: https://numpy.org/devdocs/release/1.20.0-notes.html#deprecations\n",
      "  plt.title(\"The suggested number of clusters = \" + np.str(kneedle_point.knee))\n"
     ]
    },
    {
     "data": {
      "image/png": "[encoded data removed]",
      "text/plain": [
       "<Figure size 432x288 with 1 Axes>"
      ]
     },
     "metadata": {
      "needs_background": "light"
     },
     "output_type": "display_data"
    }
   ],
   "source": [
    "proj_3d = adata_CN.X\n",
    "\n",
    "n_components = np.arange(6,30, step=2)\n",
    "models = [\n",
    "    MiniBatchKMeans(random_state=5, n_clusters=n).fit(proj_3d) for n in n_components\n",
    "]\n",
    "\n",
    "BIC_Scores = [m.inertia_ for m in models]\n",
    "kneedle_point = KneeLocator(\n",
    "    n_components, BIC_Scores, curve=\"convex\", direction=\"decreasing\"\n",
    ")\n",
    "print(\"The suggested number of clusters = \", kneedle_point.knee)\n",
    "Elbow_idx = np.where(BIC_Scores == kneedle_point.knee_y)[0]\n",
    "\n",
    "plt.plot(\n",
    "    n_components,\n",
    "    BIC_Scores,\n",
    "    \"-g\",\n",
    "    marker=\"o\",\n",
    "    markerfacecolor=\"blue\",\n",
    "    markeredgecolor=\"orange\",\n",
    "    markeredgewidth=\"2\",\n",
    "    markersize=10,\n",
    "    markevery=Elbow_idx,\n",
    ")\n",
    "plt.gca().xaxis.set_major_locator(MaxNLocator(integer=True))\n",
    "plt.legend(loc=\"best\")\n",
    "plt.xlabel(\"Number of clusters\")\n",
    "plt.ylabel(\"Sum of squared distances\")\n",
    "plt.title(\"The suggested number of clusters = \" + np.str(kneedle_point.knee))\n",
    "plt.show()"
   ]
  },
  {
   "cell_type": "code",
   "execution_count": 18,
   "id": "b8773994-3ae3-473d-b06c-e53bac188214",
   "metadata": {},
   "outputs": [
    {
     "name": "stderr",
     "output_type": "stream",
     "text": [
      "C:\\Users\\thu71\\.conda\\envs\\scanpy\\lib\\site-packages\\sklearn\\cluster\\_kmeans.py:1836: UserWarning: MiniBatchKMeans is known to have a memory leak on Windows with MKL, when there are less chunks than available threads. You can prevent it by setting batch_size >= 12288 or by setting the environment variable OMP_NUM_THREADS=4\n",
      "  warnings.warn(\n"
     ]
    }
   ],
   "source": [
    "n_neighborhoods = 14\n",
    "\n",
    "km = MiniBatchKMeans(n_clusters=n_neighborhoods, random_state=0)\n",
    "\n",
    "labels = km.fit_predict(adata_CN.X)\n",
    "k_centroids = km.cluster_centers_"
   ]
  },
  {
   "cell_type": "markdown",
   "id": "ab2e1135-0c31-4d0a-93ca-976b8d6b18b9",
   "metadata": {
    "tags": []
   },
   "source": [
    "## Merge clusters based on dendrogram"
   ]
  },
  {
   "cell_type": "code",
   "execution_count": 19,
   "id": "f6a83771-07bc-4b76-bef5-4920a2da889d",
   "metadata": {},
   "outputs": [],
   "source": [
    "import matplotlib"
   ]
  },
  {
   "cell_type": "code",
   "execution_count": 21,
   "id": "812090fe-c284-4953-81e4-f8bd20460a91",
   "metadata": {},
   "outputs": [],
   "source": [
    "df_cluster = pd.DataFrame()\n",
    "df_cluster[\"Clusters\"] = labels\n",
    "df_cluster[\"Clusters\"] = df_cluster[\"Clusters\"].astype(str).astype('category')\n",
    "df_cluster[\"Leiden\"] = adata.obs[var].tolist()\n",
    "df_cluster_count = df_cluster.value_counts().to_frame('counts').reset_index()\n",
    "\n",
    "df_cluster_count['Density'] = df_cluster_count.groupby('Clusters')[\"counts\"].apply(lambda x: x / x.sum())\n",
    "\n",
    "clusters = df_cluster[\"Clusters\"].unique().tolist()\n",
    "clusters.sort(key=int)"
   ]
  },
  {
   "cell_type": "code",
   "execution_count": 22,
   "id": "c8c255e5-5096-4487-b6eb-442e5c27e4a6",
   "metadata": {},
   "outputs": [],
   "source": [
    "cluster_label_order = adata.uns[f'dendrogram_{var}']['categories_ordered']\n",
    "\n",
    "colors = adata.uns[f\"{var}_colors\"]\n",
    "labels = adata.obs[var].cat.categories.tolist()\n",
    "colors_rgb = []\n",
    "for color in colors:\n",
    "    colors_rgb.append(matplotlib.colors.hex2color(color))\n",
    "colors_rgb = np.array(colors_rgb) * 255\n",
    "colors_rgb = colors_rgb.astype(np.uint8)\n",
    "\n",
    "colors_rgb_dict = {k:v/255 for k,v in zip(labels, colors_rgb)}"
   ]
  },
  {
   "cell_type": "code",
   "execution_count": 23,
   "id": "e02a47ea-2c49-4bdf-8b7e-2b181e0d22fa",
   "metadata": {
    "tags": []
   },
   "outputs": [
    {
     "data": {
      "image/png": "[encoded data removed]",
      "text/plain": [
       "<Figure size 1440x648 with 1 Axes>"
      ]
     },
     "metadata": {
      "needs_background": "light"
     },
     "output_type": "display_data"
    }
   ],
   "source": [
    "with sns.plotting_context('talk', font_scale=2):\n",
    "    fig, ax = plt.subplots(figsize=(20, 9))\n",
    "    ax = sns.histplot(data=df_cluster_count, x='Clusters' , hue='Leiden', weights='Density', discrete=True, multiple='stack', shrink=0.5, palette=colors_rgb_dict, edgecolor='k',)\n",
    "    ax.set_ylabel('Density')\n",
    "\n",
    "    # Fix the legend so it's not on top of the bars.\n",
    "    legend = ax.get_legend()\n",
    "    legend.set_bbox_to_anchor((1, 1))\n"
   ]
  },
  {
   "cell_type": "code",
   "execution_count": 51,
   "id": "3de19ea7-83bc-439a-bebd-7a2d6c5cc9c6",
   "metadata": {},
   "outputs": [],
   "source": [
    "# Plot count\n",
    "df_count = (\n",
    " df_cluster_count.loc[:,['Clusters', 'Leiden', 'Density']]\n",
    " .pivot(index='Clusters', columns='Leiden')\n",
    " .fillna(0)\n",
    " .droplevel(0, axis=1)\n",
    ")\n",
    "\n",
    "adata_count = sc.AnnData(df_count.values)\n",
    "adata_count.var_names = df_count.columns.tolist()\n",
    "adata_count.obs['Clusters'] = df_count.index.tolist()\n",
    "adata_count.obs['Clusters'] = adata_count.obs['Clusters'].astype('category')"
   ]
  },
  {
   "cell_type": "code",
   "execution_count": 52,
   "id": "145edf59-7869-4831-b3e4-9e019f3b7b76",
   "metadata": {
    "tags": []
   },
   "outputs": [
    {
     "name": "stdout",
     "output_type": "stream",
     "text": [
      "WARNING: Unknown type for standard_scale, ignored\n",
      "WARNING: dendrogram data not found (using key=dendrogram_Clusters). Running `sc.tl.dendrogram` with default parameters. For fine tuning it is recommended to run `sc.tl.dendrogram` independently.\n",
      "    using data matrix X directly\n",
      "Storing dendrogram info using `.uns['dendrogram_Clusters']`\n"
     ]
    },
    {
     "data": {
      "image/png": "[encoded data removed]",
      "text/plain": [
       "<Figure size 565.2x424.8 with 4 Axes>"
      ]
     },
     "metadata": {
      "needs_background": "light"
     },
     "output_type": "display_data"
    }
   ],
   "source": [
    "sc.pl.matrixplot(\n",
    "    adata_count,\n",
    "    adata_count.var_names.tolist(),\n",
    "    \"Clusters\",\n",
    "    dendrogram=True,\n",
    "    colorbar_title=\"Cluster Distribution\",\n",
    "    cmap=\"jet\",\n",
    "    use_raw=False,\n",
    "    standard_scale='obs'\n",
    ")"
   ]
  },
  {
   "cell_type": "code",
   "execution_count": 53,
   "id": "e0448a42-fd90-4471-ab04-afeba4b42ac7",
   "metadata": {},
   "outputs": [
    {
     "data": {
      "image/png": "[encoded data removed]",
      "text/plain": [
       "<Figure size 720x360 with 1 Axes>"
      ]
     },
     "metadata": {
      "needs_background": "light"
     },
     "output_type": "display_data"
    }
   ],
   "source": [
    "# Plot stand alone dendrogram\n",
    "from scanpy.plotting._anndata import _plot_dendrogram\n",
    "\n",
    "fig, dendro_ax = plt.subplots(1, 1, figsize=(10,5))\n",
    "_plot_dendrogram(dendro_ax, adata_count, groupby=\"Clusters\", orientation='top', remove_labels=False)"
   ]
  },
  {
   "cell_type": "code",
   "execution_count": 54,
   "id": "7d447000-67e9-4815-b6e5-413e7a7521a5",
   "metadata": {},
   "outputs": [],
   "source": [
    "type_dict = {'8':'1',\n",
    "             '10':'2'\n",
    "            }"
   ]
  },
  {
   "cell_type": "code",
   "execution_count": 55,
   "id": "2748e9a2-ca59-47c8-883c-c21a2da0ac6b",
   "metadata": {},
   "outputs": [],
   "source": [
    "adata_count.obs['CN'] = (\n",
    "    adata_count.obs['Clusters']\n",
    "    .map(lambda x: type_dict.get(x, x))\n",
    "    .astype(\"category\")\n",
    ")\n"
   ]
  },
  {
   "cell_type": "code",
   "execution_count": 56,
   "id": "d0371b22-64f7-48b0-8c4f-8f0721fa130d",
   "metadata": {},
   "outputs": [
    {
     "name": "stdout",
     "output_type": "stream",
     "text": [
      "    using data matrix X directly\n",
      "Storing dendrogram info using `.uns['dendrogram_CN']`\n",
      "WARNING: Unknown type for standard_scale, ignored\n"
     ]
    },
    {
     "data": {
      "image/png": "[encoded data removed]",
      "text/plain": [
       "<Figure size 565.2x374.4 with 4 Axes>"
      ]
     },
     "metadata": {
      "needs_background": "light"
     },
     "output_type": "display_data"
    }
   ],
   "source": [
    "sc.tl.dendrogram(adata_count, 'CN')\n",
    "sc.pl.matrixplot(\n",
    "    adata_count,\n",
    "    adata_count.var_names.tolist(),\n",
    "    \"CN\",\n",
    "    dendrogram=True,\n",
    "    colorbar_title=\"Cluster Distribution\",\n",
    "    cmap=\"vlag\",\n",
    "    use_raw=False,\n",
    "    standard_scale='obs'\n",
    ")"
   ]
  },
  {
   "cell_type": "markdown",
   "id": "3db190fa-2497-44d1-bc1e-ed749a602d94",
   "metadata": {},
   "source": [
    "# Add clustering labels to adata"
   ]
  },
  {
   "cell_type": "code",
   "execution_count": 57,
   "id": "3ca0dc6a-ce96-4092-8d1f-53cb0d9b4bcf",
   "metadata": {},
   "outputs": [
    {
     "name": "stderr",
     "output_type": "stream",
     "text": [
      "C:\\Users\\thu71\\.conda\\envs\\scanpy\\lib\\site-packages\\sklearn\\cluster\\_kmeans.py:1836: UserWarning: MiniBatchKMeans is known to have a memory leak on Windows with MKL, when there are less chunks than available threads. You can prevent it by setting batch_size >= 12288 or by setting the environment variable OMP_NUM_THREADS=4\n",
      "  warnings.warn(\n"
     ]
    }
   ],
   "source": [
    "labels = np.array(km.fit_predict(adata_CN.X)).astype(str)"
   ]
  },
  {
   "cell_type": "code",
   "execution_count": 58,
   "id": "11eb490f-fa02-41e3-b9c1-576696116a3c",
   "metadata": {},
   "outputs": [],
   "source": [
    "adata_CN.obs[\"LDA_Kmeans\"] = labels\n",
    "adata_CN.obs['CN'] = (\n",
    "    adata_CN.obs[\"LDA_Kmeans\"]\n",
    "    .map(lambda x: type_dict.get(x, x))\n",
    "    .astype(\"category\")\n",
    ")\n",
    "\n",
    "adata_CN.obs[\"CN\"] = adata_CN.obs[\"CN\"].astype(\"category\")\n",
    "adata_CN.uns[\"CN_colors\"] = sc.pl.palettes.vega_20[:len(np.unique(adata_CN.obs['CN']))]\n",
    "\n",
    "# Reorder cat\n",
    "clusters = np.unique(adata_CN.obs[\"CN\"]).tolist()\n",
    "clusters.sort(key=int)\n",
    "adata_CN.obs[\"CN\"] = adata_CN.obs[\"CN\"].cat.reorder_categories(clusters)"
   ]
  },
  {
   "cell_type": "code",
   "execution_count": 75,
   "id": "523d969e-7769-447c-a536-0cba7c36a34b",
   "metadata": {},
   "outputs": [],
   "source": [
    "ori_var = 'merged'\n",
    "df_cluster = pd.DataFrame()\n",
    "df_cluster[\"Clusters\"] = adata_CN.obs['CN']\n",
    "df_cluster[\"Clusters\"] = df_cluster[\"Clusters\"].astype(str).astype('category')\n",
    "df_cluster[\"Leiden\"] = adata.obs[ori_var].tolist()\n",
    "df_cluster_count = df_cluster.value_counts().to_frame('counts').reset_index()\n",
    "\n",
    "df_cluster_count['Density'] = df_cluster_count.groupby('Clusters')[\"counts\"].apply(lambda x: x / x.sum())\n",
    "\n",
    "clusters = df_cluster[\"Clusters\"].unique().tolist()\n",
    "clusters.sort(key=int)"
   ]
  },
  {
   "cell_type": "code",
   "execution_count": 76,
   "id": "16f23368-1b1d-494d-a8e3-38d8db478c1c",
   "metadata": {},
   "outputs": [],
   "source": [
    "\n",
    "cluster_label_order = adata.uns[f'dendrogram_{var}']['categories_ordered']\n",
    "\n",
    "colors = adata.uns[f\"{var}_colors\"]\n",
    "labels = adata.obs[var].cat.categories.tolist()\n",
    "colors_rgb = []\n",
    "for color in colors:\n",
    "    colors_rgb.append(matplotlib.colors.hex2color(color))\n",
    "colors_rgb = np.array(colors_rgb) * 255\n",
    "colors_rgb = colors_rgb.astype(np.uint8)\n",
    "\n",
    "colors_rgb_dict = {k:v/255 for k,v in zip(labels, colors_rgb)}"
   ]
  },
  {
   "cell_type": "code",
   "execution_count": 77,
   "id": "0a5a1cd5-4907-41ce-9606-ea1d000dab6c",
   "metadata": {
    "tags": []
   },
   "outputs": [
    {
     "data": {
      "image/png": "[encoded data removed]",
      "text/plain": [
       "<Figure size 1440x648 with 1 Axes>"
      ]
     },
     "metadata": {
      "needs_background": "light"
     },
     "output_type": "display_data"
    }
   ],
   "source": [
    "with sns.plotting_context('talk', font_scale=2):\n",
    "    fig, ax = plt.subplots(figsize=(20, 9))\n",
    "    ax = sns.histplot(data=df_cluster_count, x='Clusters' , hue='Leiden', weights='Density', discrete=True, multiple='stack', shrink=0.5, palette=colors_rgb_dict, edgecolor='k',)\n",
    "    ax.set_ylabel('Density')\n",
    "\n",
    "    # Fix the legend so it's not on top of the bars.\n",
    "    legend = ax.get_legend()\n",
    "    legend.set_bbox_to_anchor((1, 1))\n"
   ]
  },
  {
   "cell_type": "code",
   "execution_count": 78,
   "id": "612b3772-cb70-48fe-bff6-54483e02c811",
   "metadata": {},
   "outputs": [],
   "source": [
    "donors = adata_CN.obs.Dataset.unique()\n",
    "dfs = []\n",
    "\n",
    "for donor in donors:\n",
    "    adata_subset = adata_CN[adata_CN.obs.Dataset == donor,:]\n",
    "    \n",
    "    # Summary of the phenotyping\n",
    "    \n",
    "    df = pd.DataFrame(adata_subset.obs['CN'].value_counts())\n",
    "    df.columns=[donor]\n",
    "    dfs.append(df)\n",
    "    \n",
    "df = pd.concat(dfs, axis=1)"
   ]
  },
  {
   "cell_type": "code",
   "execution_count": 79,
   "id": "551c72ad-176d-4569-aba7-0b73771d2f4a",
   "metadata": {},
   "outputs": [],
   "source": [
    "df.to_clipboard()"
   ]
  },
  {
   "cell_type": "code",
   "execution_count": 80,
   "id": "057fd0cf-0e3a-49cd-ab8a-c9b9b73e1563",
   "metadata": {},
   "outputs": [
    {
     "data": {
      "text/html": [
       "<div>\n",
       "<style scoped>\n",
       "    .dataframe tbody tr th:only-of-type {\n",
       "        vertical-align: middle;\n",
       "    }\n",
       "\n",
       "    .dataframe tbody tr th {\n",
       "        vertical-align: top;\n",
       "    }\n",
       "\n",
       "    .dataframe thead th {\n",
       "        text-align: right;\n",
       "    }\n",
       "</style>\n",
       "<table border=\"1\" class=\"dataframe\">\n",
       "  <thead>\n",
       "    <tr style=\"text-align: right;\">\n",
       "      <th></th>\n",
       "      <th>LN Donor A</th>\n",
       "      <th>LN Donor E</th>\n",
       "      <th>INT Donor B</th>\n",
       "      <th>INT Donor E</th>\n",
       "      <th>TS Donor A</th>\n",
       "      <th>TS Donor E</th>\n",
       "      <th>SP Donor A</th>\n",
       "    </tr>\n",
       "  </thead>\n",
       "  <tbody>\n",
       "    <tr>\n",
       "      <th>2</th>\n",
       "      <td>53520</td>\n",
       "      <td>93625</td>\n",
       "      <td>18318</td>\n",
       "      <td>13924</td>\n",
       "      <td>37998</td>\n",
       "      <td>53434</td>\n",
       "      <td>73371</td>\n",
       "    </tr>\n",
       "    <tr>\n",
       "      <th>1</th>\n",
       "      <td>43472</td>\n",
       "      <td>62022</td>\n",
       "      <td>18212</td>\n",
       "      <td>9981</td>\n",
       "      <td>72985</td>\n",
       "      <td>84031</td>\n",
       "      <td>25948</td>\n",
       "    </tr>\n",
       "    <tr>\n",
       "      <th>12</th>\n",
       "      <td>24439</td>\n",
       "      <td>84252</td>\n",
       "      <td>9238</td>\n",
       "      <td>17167</td>\n",
       "      <td>6550</td>\n",
       "      <td>11562</td>\n",
       "      <td>13771</td>\n",
       "    </tr>\n",
       "    <tr>\n",
       "      <th>9</th>\n",
       "      <td>23534</td>\n",
       "      <td>8134</td>\n",
       "      <td>21208</td>\n",
       "      <td>21060</td>\n",
       "      <td>19313</td>\n",
       "      <td>49312</td>\n",
       "      <td>21729</td>\n",
       "    </tr>\n",
       "    <tr>\n",
       "      <th>7</th>\n",
       "      <td>17609</td>\n",
       "      <td>6348</td>\n",
       "      <td>14383</td>\n",
       "      <td>70987</td>\n",
       "      <td>40164</td>\n",
       "      <td>32170</td>\n",
       "      <td>237</td>\n",
       "    </tr>\n",
       "    <tr>\n",
       "      <th>6</th>\n",
       "      <td>17591</td>\n",
       "      <td>12362</td>\n",
       "      <td>56544</td>\n",
       "      <td>65732</td>\n",
       "      <td>26172</td>\n",
       "      <td>20821</td>\n",
       "      <td>511</td>\n",
       "    </tr>\n",
       "    <tr>\n",
       "      <th>13</th>\n",
       "      <td>9408</td>\n",
       "      <td>4109</td>\n",
       "      <td>15353</td>\n",
       "      <td>47226</td>\n",
       "      <td>25949</td>\n",
       "      <td>2787</td>\n",
       "      <td>12834</td>\n",
       "    </tr>\n",
       "    <tr>\n",
       "      <th>11</th>\n",
       "      <td>2725</td>\n",
       "      <td>1266</td>\n",
       "      <td>219</td>\n",
       "      <td>129</td>\n",
       "      <td>38425</td>\n",
       "      <td>53085</td>\n",
       "      <td>1464</td>\n",
       "    </tr>\n",
       "    <tr>\n",
       "      <th>5</th>\n",
       "      <td>279</td>\n",
       "      <td>6590</td>\n",
       "      <td>2697</td>\n",
       "      <td>13344</td>\n",
       "      <td>31494</td>\n",
       "      <td>17385</td>\n",
       "      <td>822</td>\n",
       "    </tr>\n",
       "    <tr>\n",
       "      <th>4</th>\n",
       "      <td>248</td>\n",
       "      <td>50</td>\n",
       "      <td>35024</td>\n",
       "      <td>10716</td>\n",
       "      <td>1213</td>\n",
       "      <td>8069</td>\n",
       "      <td>5303</td>\n",
       "    </tr>\n",
       "    <tr>\n",
       "      <th>0</th>\n",
       "      <td>210</td>\n",
       "      <td>7000</td>\n",
       "      <td>278</td>\n",
       "      <td>77</td>\n",
       "      <td>22600</td>\n",
       "      <td>52508</td>\n",
       "      <td>6123</td>\n",
       "    </tr>\n",
       "    <tr>\n",
       "      <th>3</th>\n",
       "      <td>43</td>\n",
       "      <td>79</td>\n",
       "      <td>23</td>\n",
       "      <td>50</td>\n",
       "      <td>19</td>\n",
       "      <td>462</td>\n",
       "      <td>144024</td>\n",
       "    </tr>\n",
       "  </tbody>\n",
       "</table>\n",
       "</div>"
      ],
      "text/plain": [
       "    LN Donor A  LN Donor E  INT Donor B  INT Donor E  TS Donor A  TS Donor E  \\\n",
       "2        53520       93625        18318        13924       37998       53434   \n",
       "1        43472       62022        18212         9981       72985       84031   \n",
       "12       24439       84252         9238        17167        6550       11562   \n",
       "9        23534        8134        21208        21060       19313       49312   \n",
       "7        17609        6348        14383        70987       40164       32170   \n",
       "6        17591       12362        56544        65732       26172       20821   \n",
       "13        9408        4109        15353        47226       25949        2787   \n",
       "11        2725        1266          219          129       38425       53085   \n",
       "5          279        6590         2697        13344       31494       17385   \n",
       "4          248          50        35024        10716        1213        8069   \n",
       "0          210        7000          278           77       22600       52508   \n",
       "3           43          79           23           50          19         462   \n",
       "\n",
       "    SP Donor A  \n",
       "2        73371  \n",
       "1        25948  \n",
       "12       13771  \n",
       "9        21729  \n",
       "7          237  \n",
       "6          511  \n",
       "13       12834  \n",
       "11        1464  \n",
       "5          822  \n",
       "4         5303  \n",
       "0         6123  \n",
       "3       144024  "
      ]
     },
     "execution_count": 80,
     "metadata": {},
     "output_type": "execute_result"
    }
   ],
   "source": [
    "df"
   ]
  },
  {
   "cell_type": "markdown",
   "id": "e6452710-e567-419c-aead-4a821dc4a1a5",
   "metadata": {},
   "source": [
    "# Plot cell mask"
   ]
  },
  {
   "cell_type": "code",
   "execution_count": 81,
   "id": "5bd54549-9ff1-4a61-b160-7531ab85a5e0",
   "metadata": {
    "tags": []
   },
   "outputs": [],
   "source": [
    "import matplotlib \n",
    "from PIL import Image\n",
    "\n",
    "def create_clustered_cell(mask, label2cell, my_cmap, **kwargs):\n",
    "    img = np.zeros((mask.shape[0], mask.shape[1],3), dtype=np.uint8)\n",
    "\n",
    "    # for i, cells in tqdm(label2cell.items(), total=len(label2cell), leave=False):\n",
    "    for i, cells in label2cell.items():\n",
    "        rows, cols = np.where(np.isin(mask, cells))\n",
    "        img[rows, cols, :] = my_cmap[int(i)]\n",
    "    return img\n",
    "\n",
    "\n",
    "def get_img_size(roi_dict, size=1000):\n",
    "    row_max = 0\n",
    "    col_max = 0\n",
    "    for k, v in roi_dict.items():\n",
    "        row_max = max(row_max, v[0])\n",
    "        col_max = max(col_max, v[1])\n",
    "    return row_max + size, col_max + size\n",
    "\n",
    "# Read mask image\n",
    "def get_masks(mask_folder):\n",
    "    \"\"\"\n",
    "    Function to get all mask from mask forlder\n",
    "    \"\"\"\n",
    "    # Read masks\n",
    "    masks = {}\n",
    "\n",
    "    for (dirpath, dirnames, filenames) in os.walk(mask_folder):\n",
    "        for name in sorted(filenames):\n",
    "            if \"tif\" in name:\n",
    "                filename = os.path.join(dirpath, name)\n",
    "                img = skimage.io.imread(filename)\n",
    "                condition =  name.split(\".\")[0]\n",
    "                masks[condition] = img\n",
    "            else:\n",
    "                continue\n",
    "    return masks\n"
   ]
  },
  {
   "cell_type": "code",
   "execution_count": 82,
   "id": "769db5f2-2a50-488a-9f1a-bc0fc82e48b1",
   "metadata": {
    "tags": []
   },
   "outputs": [],
   "source": [
    "# Format row, col\n",
    "arrangement = {\n",
    "    \"LN Donor A\": {\n",
    "        1: [0, 1000],\n",
    "        2: [0, 2000],\n",
    "        3: [1000, 0],\n",
    "        4: [1000, 1000],\n",
    "        5: [1000, 2000],\n",
    "        6: [1000, 3000],\n",
    "        7: [2000, 0],\n",
    "        8: [2000, 1000],\n",
    "        9: [2000, 2000],\n",
    "        10: [2000, 3000],\n",
    "        11: [3000, 0],\n",
    "        12: [3000, 1000],\n",
    "        13: [3000, 2000],\n",
    "        14: [3000, 3000],\n",
    "        15: [4000, 1000],\n",
    "        16: [4000, 2000],\n",
    "    },\n",
    "    \"LN Donor E\": {\n",
    "        1: [1000, 0],\n",
    "        2: [1000, 1000],\n",
    "        3: [1000, 2000],\n",
    "        4: [1000, 3000],\n",
    "        5: [1000, 4000],\n",
    "        6: [1000, 5000],\n",
    "        7: [1000, 6000],\n",
    "        8: [1000, 7000],\n",
    "        9: [1000, 8000],\n",
    "        10: [0, 0],\n",
    "        11: [0, 1000],\n",
    "        12: [0, 2000],\n",
    "        13: [0, 3000],\n",
    "        14: [0, 4000],\n",
    "    },\n",
    "    \"INT Donor B\": {\n",
    "        1: [0, 0],\n",
    "        2: [0, 1000],\n",
    "        3: [1000, 0],\n",
    "        4: [1000, 1000],\n",
    "        5: [2000, 0],\n",
    "        6: [2000, 1000],\n",
    "        7: [2000, 2000],\n",
    "        8: [2000, 3000],\n",
    "        9: [3000, 0],\n",
    "        10: [3000, 1000],\n",
    "        11: [3000, 2000],\n",
    "        12: [3000, 3000],\n",
    "        13: [4000, 0],\n",
    "        14: [4000, 1000],\n",
    "        15: [4000, 2000],\n",
    "        16: [4000, 3000],\n",
    "        # 17: [5000, 0],\n",
    "        # 18: [5000, 1000],\n",
    "        # 19: [5000, 2000],\n",
    "        # 20: [5000, 3000],\n",
    "    },\n",
    "    \"INT Donor E\": {\n",
    "        1: [0, 0],\n",
    "        2: [0, 1000],\n",
    "        3: [0, 2000],\n",
    "        4: [0, 3000],\n",
    "        # 5: [0, 4000],\n",
    "        6: [1000, 0],\n",
    "        7: [1000, 1000],\n",
    "        8: [1000, 2000],\n",
    "        9: [1000, 3000],\n",
    "        10: [1000, 4000],\n",
    "        11: [2000, 3000],\n",
    "        12: [2000, 4000],\n",
    "        13: [3000, 3000],\n",
    "        14: [3000, 4000],\n",
    "        15: [4000, 3000],\n",
    "        16: [4000, 4000],\n",
    "    },\n",
    "    \"TS Donor A\": {\n",
    "        1: [0, 0],\n",
    "        2: [0, 1000],\n",
    "        3: [0, 2000],\n",
    "        4: [0, 3000],\n",
    "        5: [0, 4000],\n",
    "        6: [0, 5000],\n",
    "        7: [0, 6000],\n",
    "        8: [1000, 0],\n",
    "        9: [1000, 1000],\n",
    "        10: [1000, 2000],\n",
    "        11: [1000, 3000],\n",
    "        12: [1000, 4000],\n",
    "        13: [1000, 5000],\n",
    "        14: [1000, 6000],\n",
    "    },\n",
    "    \"TS Donor E\": {\n",
    "        1: [0, 0],\n",
    "        2: [0, 1000],\n",
    "        3: [0, 2000],\n",
    "        4: [1000, 0],\n",
    "        5: [1000, 1000],\n",
    "        6: [1000, 2000],\n",
    "        7: [2000, 0],\n",
    "        8: [2000, 1000],\n",
    "        9: [2000, 2000],\n",
    "        10: [3000, 0],\n",
    "        11: [3000, 1000],\n",
    "        12: [3000, 2000],\n",
    "        13: [4000, 0],\n",
    "        14: [4000, 1000],\n",
    "        15: [4000, 2000],\n",
    "        16: [5000, 0],\n",
    "        17: [5000, 1000],\n",
    "        18: [5000, 2000],\n",
    "    },\n",
    "    \"SP Donor A\": {\n",
    "        1: [0, 0],\n",
    "        2: [0, 1000],\n",
    "        3: [0, 2000],\n",
    "        4: [0, 3000],\n",
    "        5: [0, 4000],\n",
    "        6: [1000, 0],\n",
    "        7: [1000, 1000],\n",
    "        8: [1000, 2000],\n",
    "        9: [1000, 3000],\n",
    "        10: [1000, 4000],\n",
    "        11: [2000, 0],\n",
    "        12: [2000, 1000],\n",
    "        13: [2000, 2000],\n",
    "        14: [2000, 3000],\n",
    "        15: [2000, 4000],\n",
    "        16: [3000, 0],\n",
    "        17: [3000, 1000],\n",
    "        18: [3000, 2000],\n",
    "        19: [3000, 3000],\n",
    "        20: [3000, 4000],\n",
    "    },\n",
    "}"
   ]
  },
  {
   "cell_type": "code",
   "execution_count": 83,
   "id": "3246575a-3dd3-4242-b8c4-ecb1a05ba25e",
   "metadata": {},
   "outputs": [],
   "source": [
    "masks = {}\n",
    "for d in donors:\n",
    "    masks[d] = get_masks(data_dir / \"masks\" / d)"
   ]
  },
  {
   "cell_type": "code",
   "execution_count": 84,
   "id": "ca1638b4-1b66-4e58-87a1-7cfa40657470",
   "metadata": {},
   "outputs": [],
   "source": [
    "import matplotlib \n",
    "\n",
    "var = 'CN'\n",
    "\n",
    "cluster_label_order = adata_count.uns[f'dendrogram_{var}']['categories_ordered']\n",
    "\n",
    "colors = adata_CN.uns[f\"{var}_colors\"]\n",
    "labels = adata_CN.obs[var].cat.categories.tolist()\n",
    "\n",
    "colors_rgb = []\n",
    "for color in colors:\n",
    "    colors_rgb.append(matplotlib.colors.hex2color(color))\n",
    "colors_rgb = np.array(colors_rgb) * 255\n",
    "colors_rgb = colors_rgb.astype(np.uint8)\n",
    "\n",
    "colors_rgb_dict = {k:v for k,v in zip(labels, colors_rgb)}\n"
   ]
  },
  {
   "cell_type": "code",
   "execution_count": 85,
   "id": "16757747-0e3a-47cf-bc05-896f6887d13c",
   "metadata": {},
   "outputs": [
    {
     "data": {
      "text/plain": [
       "12"
      ]
     },
     "execution_count": 85,
     "metadata": {},
     "output_type": "execute_result"
    }
   ],
   "source": [
    "len(cluster_label_order)"
   ]
  },
  {
   "cell_type": "code",
   "execution_count": 86,
   "id": "32017b74-746b-403d-98f9-e885213f514a",
   "metadata": {},
   "outputs": [
    {
     "data": {
      "image/png": "[encoded data removed]",
      "text/plain": [
       "<Figure size 72x720 with 1 Axes>"
      ]
     },
     "metadata": {
      "needs_background": "light"
     },
     "output_type": "display_data"
    }
   ],
   "source": [
    "c=np.array([colors_rgb_dict[i] for i in cluster_label_order])\n",
    "\n",
    "# legend\n",
    "fig, ax = plt.subplots(figsize=(1,10))\n",
    "ax.barh(y=range(len(colors_rgb_dict.values())), \n",
    "        color=c/255,\n",
    "        width=1, \n",
    "        height=1,\n",
    "        edgecolor='k',\n",
    "        linewidth=3,\n",
    "       )\n",
    "_ = plt.yticks(range(len(colors_rgb_dict.values())), cluster_label_order, rotation=0, size=35)\n",
    "_ = plt.xticks([])\n",
    "ax.spines['top'].set_visible(False)\n",
    "ax.spines['right'].set_visible(False)\n",
    "ax.spines['bottom'].set_visible(False)\n",
    "ax.spines['left'].set_visible(False)\n",
    "ax.tick_params(axis=u'both', which=u'both',length=0)\n",
    "# ax.yaxis.tick_right()\n",
    "ax.invert_yaxis()\n",
    "ax.grid(False)\n"
   ]
  },
  {
   "cell_type": "code",
   "execution_count": null,
   "id": "f29a3ca7-1dd9-4d01-871f-8e02b219b928",
   "metadata": {},
   "outputs": [],
   "source": [
    "for d in adata.obs.Dataset.unique():\n",
    "    adata_donor = adata_CN[adata_CN.obs.Dataset == d, :]\n",
    "    with rc_context({\"figure.figsize\": (20, 20)}):\n",
    "        sc.pl.spatial(adata_donor, color='CN', spot_size=10)\n",
    "    \n",
    "    plt.show()\n",
    "    break"
   ]
  },
  {
   "cell_type": "code",
   "execution_count": 87,
   "id": "86cbe071-726a-447b-81d6-141ce04a47e0",
   "metadata": {},
   "outputs": [],
   "source": [
    "size = 1000\n",
    "\n",
    "for d in adata.obs.Dataset.unique():\n",
    "    adata_donor = adata_CN[adata_CN.obs.Dataset == d, :]\n",
    "\n",
    "    # Create combined images\n",
    "    y_max, x_max = get_img_size(arrangement[d])\n",
    "    img_combined = np.zeros((y_max, x_max, 3), dtype=np.uint8)\n",
    "\n",
    "    for i in adata_donor.obs.ROI.unique():\n",
    "        if i not in arrangement[d].keys():\n",
    "            continue\n",
    "\n",
    "        # Get dataset\n",
    "        adata_subset = adata_donor[adata_donor.obs.ROI == i, :]\n",
    "\n",
    "        # Get mask\n",
    "        mask = masks[d][str(int(i))]\n",
    "\n",
    "        # Get label2cell dict\n",
    "        label2cell = {}\n",
    "        for ii,l in enumerate(labels):\n",
    "            cell_id = adata_subset[adata_subset.obs.CN== l].obs.Cell.to_list()\n",
    "            label2cell[ii] = cell_id\n",
    "\n",
    "        img = create_clustered_cell(mask, label2cell, colors_rgb)\n",
    "\n",
    "        # Insert to combine image\n",
    "        y = max(0, arrangement[d][i][0] - 1)\n",
    "        x = max(0, arrangement[d][i][1] - 1)\n",
    "        img_combined[y : y + size, x : x + size] = img\n",
    "\n",
    "    save_path = p_dir / \"figures\" / \"clustering\" / f\"CN_small_Cluster_subset{d}.png\"\n",
    "    img_combined = Image.fromarray(img_combined)\n",
    "    img_combined.save(save_path)\n"
   ]
  },
  {
   "cell_type": "code",
   "execution_count": null,
   "id": "e2b93e95-5d60-4ca0-aede-2c9d0628ab0b",
   "metadata": {},
   "outputs": [],
   "source": []
  }
 ],
 "metadata": {
  "kernelspec": {
   "display_name": "Python [conda env:.conda-scanpy]",
   "language": "python",
   "name": "conda-env-.conda-scanpy-py"
  },
  "language_info": {
   "codemirror_mode": {
    "name": "ipython",
    "version": 3
   },
   "file_extension": ".py",
   "mimetype": "text/x-python",
   "name": "python",
   "nbconvert_exporter": "python",
   "pygments_lexer": "ipython3",
   "version": "3.10.5"
  }
 },
 "nbformat": 4,
 "nbformat_minor": 5
}
